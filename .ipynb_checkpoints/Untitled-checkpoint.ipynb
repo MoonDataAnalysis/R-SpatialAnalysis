{
 "cells": [
  {
   "cell_type": "code",
   "execution_count": 1,
   "id": "96d5efa1",
   "metadata": {},
   "outputs": [
    {
     "ename": "ERROR",
     "evalue": "Error in parse(text = x, srcfile = src): <text>:1:3: unexpected symbol\n1: r nbconvert\n      ^\n",
     "output_type": "error",
     "traceback": [
      "Error in parse(text = x, srcfile = src): <text>:1:3: unexpected symbol\n1: r nbconvert\n      ^\nTraceback:\n"
     ]
    }
   ],
   "source": [
    "r nbconvert --to webpdf --allow-chro mium-download Point Pattern Analysis Using R_show.ipynb"
   ]
  },
  {
   "cell_type": "code",
   "execution_count": null,
   "id": "7d5058c5",
   "metadata": {},
   "outputs": [],
   "source": []
  }
 ],
 "metadata": {
  "kernelspec": {
   "display_name": "R",
   "language": "R",
   "name": "ir"
  },
  "language_info": {
   "codemirror_mode": "r",
   "file_extension": ".r",
   "mimetype": "text/x-r-source",
   "name": "R",
   "pygments_lexer": "r",
   "version": "4.3.0"
  }
 },
 "nbformat": 4,
 "nbformat_minor": 5
}
