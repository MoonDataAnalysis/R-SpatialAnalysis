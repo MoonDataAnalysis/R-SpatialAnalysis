{
 "cells": [
  {
   "cell_type": "markdown",
   "id": "51c1cdef",
   "metadata": {},
   "source": [
    "## 向量数据和离散栅格数据的协同处理\n",
    "\n",
    "本节我们将使用数据 Cropland Data Layer (CDL)，包含美国农作物情况，这是离散栅格数据。\n",
    "\n",
    "The National Hydrography Dataset (NHD) 是矢量数据，包含水文信息（点、线、多边形数据）\n",
    "\n"
   ]
  },
  {
   "cell_type": "code",
   "execution_count": 1,
   "id": "a7d12196",
   "metadata": {},
   "outputs": [],
   "source": [
    "setwd(\"C:/Users/77387/Desktop/Data_analysis_courses/RandSpecialAnalysis/Chapter10\")"
   ]
  },
  {
   "cell_type": "code",
   "execution_count": 2,
   "id": "5478c72d",
   "metadata": {},
   "outputs": [
    {
     "name": "stderr",
     "output_type": "stream",
     "text": [
      "Warning message:\n",
      "\"程辑包'tidyverse'是用R版本4.2.3 来建造的\"\n",
      "Warning message:\n",
      "\"程辑包'ggplot2'是用R版本4.2.3 来建造的\"\n",
      "Warning message:\n",
      "\"程辑包'tibble'是用R版本4.2.3 来建造的\"\n",
      "Warning message:\n",
      "\"程辑包'tidyr'是用R版本4.2.3 来建造的\"\n",
      "Warning message:\n",
      "\"程辑包'readr'是用R版本4.2.3 来建造的\"\n",
      "Warning message:\n",
      "\"程辑包'purrr'是用R版本4.2.3 来建造的\"\n",
      "Warning message:\n",
      "\"程辑包'dplyr'是用R版本4.2.3 来建造的\"\n",
      "Warning message:\n",
      "\"程辑包'stringr'是用R版本4.2.3 来建造的\"\n",
      "Warning message:\n",
      "\"程辑包'forcats'是用R版本4.2.3 来建造的\"\n",
      "Warning message:\n",
      "\"程辑包'lubridate'是用R版本4.2.3 来建造的\"\n",
      "-- \u001b[1mAttaching core tidyverse packages\u001b[22m ---------------------------------------------------------------- tidyverse 2.0.0 --\n",
      "\u001b[32mv\u001b[39m \u001b[34mdplyr    \u001b[39m 1.1.2     \u001b[32mv\u001b[39m \u001b[34mreadr    \u001b[39m 2.1.4\n",
      "\u001b[32mv\u001b[39m \u001b[34mforcats  \u001b[39m 1.0.0     \u001b[32mv\u001b[39m \u001b[34mstringr  \u001b[39m 1.5.1\n",
      "\u001b[32mv\u001b[39m \u001b[34mggplot2  \u001b[39m 3.4.2     \u001b[32mv\u001b[39m \u001b[34mtibble   \u001b[39m 3.2.1\n",
      "\u001b[32mv\u001b[39m \u001b[34mlubridate\u001b[39m 1.9.2     \u001b[32mv\u001b[39m \u001b[34mtidyr    \u001b[39m 1.3.0\n",
      "\u001b[32mv\u001b[39m \u001b[34mpurrr    \u001b[39m 1.0.1     \n",
      "-- \u001b[1mConflicts\u001b[22m ---------------------------------------------------------------------------------- tidyverse_conflicts() --\n",
      "\u001b[31mx\u001b[39m \u001b[34mdplyr\u001b[39m::\u001b[32mfilter()\u001b[39m masks \u001b[34mstats\u001b[39m::filter()\n",
      "\u001b[31mx\u001b[39m \u001b[34mdplyr\u001b[39m::\u001b[32mlag()\u001b[39m    masks \u001b[34mstats\u001b[39m::lag()\n",
      "\u001b[36mi\u001b[39m Use the conflicted package (\u001b[3m\u001b[34m<http://conflicted.r-lib.org/>\u001b[39m\u001b[23m) to force all conflicts to become errors\n",
      "Warning message:\n",
      "\"程辑包'sf'是用R版本4.2.3 来建造的\"\n",
      "Linking to GEOS 3.9.3, GDAL 3.5.2, PROJ 8.2.1; sf_use_s2() is TRUE\n",
      "\n",
      "Warning message:\n",
      "\"程辑包'terra'是用R版本4.2.3 来建造的\"\n",
      "terra 1.7.29\n",
      "\n",
      "\n",
      "载入程辑包：'terra'\n",
      "\n",
      "\n",
      "The following object is masked from 'package:tidyr':\n",
      "\n",
      "    extract\n",
      "\n",
      "\n",
      "Warning message:\n",
      "\"程辑包'scales'是用R版本4.2.3 来建造的\"\n",
      "\n",
      "载入程辑包：'scales'\n",
      "\n",
      "\n",
      "The following object is masked from 'package:terra':\n",
      "\n",
      "    rescale\n",
      "\n",
      "\n",
      "The following object is masked from 'package:purrr':\n",
      "\n",
      "    discard\n",
      "\n",
      "\n",
      "The following object is masked from 'package:readr':\n",
      "\n",
      "    col_factor\n",
      "\n",
      "\n",
      "\n",
      "载入程辑包：'colorspace'\n",
      "\n",
      "\n",
      "The following object is masked from 'package:terra':\n",
      "\n",
      "    RGB\n",
      "\n",
      "\n",
      "Warning message:\n",
      "\"程辑包'ggspatial'是用R版本4.2.3 来建造的\"\n"
     ]
    }
   ],
   "source": [
    "library(tidyverse)\n",
    "library(sf)\n",
    "library(terra)\n",
    "library(scales)\n",
    "library(colorspace)\n",
    "library(ggspatial)\n",
    "\n",
    "source(\"rasterdf.R\")"
   ]
  },
  {
   "cell_type": "code",
   "execution_count": 3,
   "id": "85c17f59",
   "metadata": {},
   "outputs": [],
   "source": [
    "# 读入数据，栅格数据，2020和2010年的农作物数据\n",
    "crop2010 <- rast(\"CDL_2010_clip.tif\")\n",
    "crop2020 <- rast(\"CDL_2020_clip.tif\")\n",
    "\n",
    "# 读入矢量数据，水文情况\n",
    "streams <- st_read(\"NHDFlowline.shp\", quiet = TRUE)\n",
    "wsheds <- st_read(\"WBDHU10.shp\", quiet = TRUE)\n",
    "subwsh <- st_read(\"WBDHU12.shp\", quiet = TRUE)"
   ]
  },
  {
   "cell_type": "markdown",
   "id": "65b70bb8",
   "metadata": {},
   "source": [
    "NHD 数据的 geographic coordinate system"
   ]
  },
  {
   "cell_type": "code",
   "execution_count": 4,
   "id": "b1dbf33c",
   "metadata": {},
   "outputs": [
    {
     "name": "stdout",
     "output_type": "stream",
     "text": [
      "GEOGCS[\"NAD83\",\n",
      "    DATUM[\"North_American_Datum_1983\",\n",
      "        SPHEROID[\"GRS 1980\",6378137,298.257222101]],\n",
      "    PRIMEM[\"Greenwich\",0],\n",
      "    UNIT[\"degree\",0.0174532925199433,\n",
      "        AUTHORITY[\"EPSG\",\"9122\"]],\n",
      "    AXIS[\"Latitude\",NORTH],\n",
      "    AXIS[\"Longitude\",EAST],\n",
      "    AUTHORITY[\"EPSG\",\"4269\"]]\n"
     ]
    }
   ],
   "source": [
    "writeLines(st_crs(wsheds)$WktPretty)"
   ]
  },
  {
   "cell_type": "markdown",
   "id": "ffa64544",
   "metadata": {},
   "source": [
    "CDL 数据的 geographic coordinate system"
   ]
  },
  {
   "cell_type": "code",
   "execution_count": 5,
   "id": "58b7cad9",
   "metadata": {},
   "outputs": [
    {
     "name": "stdout",
     "output_type": "stream",
     "text": [
      "PROJCS[\"unnamed\",\n",
      "    GEOGCS[\"NAD83\",\n",
      "        DATUM[\"North_American_Datum_1983\",\n",
      "            SPHEROID[\"GRS 1980\",6378137,298.257222101004]],\n",
      "        PRIMEM[\"Greenwich\",0],\n",
      "        UNIT[\"degree\",0.0174532925199433,\n",
      "            AUTHORITY[\"EPSG\",\"9122\"]],\n",
      "        AUTHORITY[\"EPSG\",\"4269\"]],\n",
      "    PROJECTION[\"Albers_Conic_Equal_Area\"],\n",
      "    PARAMETER[\"latitude_of_center\",23],\n",
      "    PARAMETER[\"longitude_of_center\",-96],\n",
      "    PARAMETER[\"standard_parallel_1\",29.5],\n",
      "    PARAMETER[\"standard_parallel_2\",45.5],\n",
      "    PARAMETER[\"false_easting\",0],\n",
      "    PARAMETER[\"false_northing\",0],\n",
      "    UNIT[\"metre\",1,\n",
      "        AUTHORITY[\"EPSG\",\"9001\"]],\n",
      "    AXIS[\"Easting\",EAST],\n",
      "    AXIS[\"Northing\",NORTH]]\n"
     ]
    }
   ],
   "source": [
    "writeLines(st_crs(crop2010)$WktPretty)"
   ]
  },
  {
   "cell_type": "markdown",
   "id": "36579d19",
   "metadata": {},
   "source": [
    "矢量数据全部重新映射，按照 CDL 的 coordinate system 重映射"
   ]
  },
  {
   "cell_type": "code",
   "execution_count": 6,
   "id": "619988e9",
   "metadata": {},
   "outputs": [],
   "source": [
    "wsheds_aea <- st_transform(wsheds, crs(crop2010))\n",
    "subwsh_aea <- st_transform(subwsh, crs(crop2010))\n",
    "streams_aea <- st_transform(streams, crs(crop2010))"
   ]
  },
  {
   "cell_type": "markdown",
   "id": "37862b39",
   "metadata": {},
   "source": [
    "## 10.1 Visualizing and Manipulating Vector Data\n"
   ]
  },
  {
   "cell_type": "code",
   "execution_count": 7,
   "id": "0628ef1a",
   "metadata": {},
   "outputs": [
    {
     "name": "stderr",
     "output_type": "stream",
     "text": [
      "Warning message:\n",
      "\"st_point_on_surface assumes attributes are constant over geometries\"\n"
     ]
    },
    {
     "data": {
      "image/png": "[encoded data removed]",
      "text/plain": [
       "plot without title"
      ]
     },
     "metadata": {
      "image/png": {
       "height": 420,
       "width": 420
      }
     },
     "output_type": "display_data"
    }
   ],
   "source": [
    "# st_point_on_surface 把地区标签填到 polygon 中。\n",
    "# st_coordinates 将地理信息列转化为 sf 可以读的形式。\n",
    "wsheds_aea <- cbind(wsheds_aea, \n",
    "                    st_coordinates(st_point_on_surface(wsheds_aea)))\n",
    "\n",
    "ggplot(data = wsheds_aea) +\n",
    "  geom_sf(color = \"black\", \n",
    "          size = 0.1) +\n",
    "  geom_text(aes(x = X, \n",
    "                y = Y, \n",
    "                label = name),\n",
    "            size = 3, \n",
    "            fontface = \"bold\") +\n",
    "  coord_sf() +\n",
    "  theme_void()"
   ]
  },
  {
   "cell_type": "code",
   "execution_count": 8,
   "id": "7e07ff7e",
   "metadata": {},
   "outputs": [
    {
     "data": {
      "text/html": [
       "<style>\n",
       ".list-inline {list-style: none; margin:0; padding: 0}\n",
       ".list-inline>li {display: inline-block}\n",
       ".list-inline>li:not(:last-child)::after {content: \"\\00b7\"; padding: 0 .5ex}\n",
       "</style>\n",
       "<ol class=list-inline><li>'Lake Sinai-Big Sioux River'</li><li>'Deer Creek'</li><li>'Medary Creek'</li><li>'Dry Lake Number One'</li><li>'Lake Marsh'</li><li>'Lake Poinsett'</li><li>'Hidewood Creek'</li><li>'Oakwood Lakes'</li><li>'Sixmile Creek'</li><li>'North Deer Creek'</li><li>'Battle Creek'</li></ol>\n"
      ],
      "text/latex": [
       "\\begin{enumerate*}\n",
       "\\item 'Lake Sinai-Big Sioux River'\n",
       "\\item 'Deer Creek'\n",
       "\\item 'Medary Creek'\n",
       "\\item 'Dry Lake Number One'\n",
       "\\item 'Lake Marsh'\n",
       "\\item 'Lake Poinsett'\n",
       "\\item 'Hidewood Creek'\n",
       "\\item 'Oakwood Lakes'\n",
       "\\item 'Sixmile Creek'\n",
       "\\item 'North Deer Creek'\n",
       "\\item 'Battle Creek'\n",
       "\\end{enumerate*}\n"
      ],
      "text/markdown": [
       "1. 'Lake Sinai-Big Sioux River'\n",
       "2. 'Deer Creek'\n",
       "3. 'Medary Creek'\n",
       "4. 'Dry Lake Number One'\n",
       "5. 'Lake Marsh'\n",
       "6. 'Lake Poinsett'\n",
       "7. 'Hidewood Creek'\n",
       "8. 'Oakwood Lakes'\n",
       "9. 'Sixmile Creek'\n",
       "10. 'North Deer Creek'\n",
       "11. 'Battle Creek'\n",
       "\n",
       "\n"
      ],
      "text/plain": [
       " [1] \"Lake Sinai-Big Sioux River\" \"Deer Creek\"                \n",
       " [3] \"Medary Creek\"               \"Dry Lake Number One\"       \n",
       " [5] \"Lake Marsh\"                 \"Lake Poinsett\"             \n",
       " [7] \"Hidewood Creek\"             \"Oakwood Lakes\"             \n",
       " [9] \"Sixmile Creek\"              \"North Deer Creek\"          \n",
       "[11] \"Battle Creek\"              "
      ]
     },
     "metadata": {},
     "output_type": "display_data"
    }
   ],
   "source": [
    "wsheds$name"
   ]
  },
  {
   "cell_type": "code",
   "execution_count": 9,
   "id": "7a54394f",
   "metadata": {},
   "outputs": [
    {
     "data": {
      "image/png": "[encoded data removed]",
      "text/plain": [
       "plot without title"
      ]
     },
     "metadata": {
      "image/png": {
       "height": 420,
       "width": 420
      }
     },
     "output_type": "display_data"
    }
   ],
   "source": [
    "hnudge <- c(-10000, 5000, 0, 0, 0, 0, 0, 0, 0, 0, 0)\n",
    "vnudge <- c(-7500, 2500, 0, 0, 0, 0, 0, 0, 0, 5000, 0)\n",
    "\n",
    "ggplot(data = wsheds_aea) +\n",
    "  geom_sf(color = \"black\",\n",
    "          size = 0.1) +\n",
    "  geom_text(aes(x = X,\n",
    "                y = Y, \n",
    "                label = name),\n",
    "            nudge_x = hnudge,\n",
    "            nudge_y = vnudge,\n",
    "            size = 3, \n",
    "            fontface = \"bold\") +\n",
    "  theme_void()"
   ]
  },
  {
   "cell_type": "code",
   "execution_count": 10,
   "id": "ff2acb99",
   "metadata": {},
   "outputs": [
    {
     "data": {
      "image/png": "[encoded data removed]",
      "text/plain": [
       "plot without title"
      ]
     },
     "metadata": {
      "image/png": {
       "height": 420,
       "width": 420
      }
     },
     "output_type": "display_data"
    }
   ],
   "source": [
    "# geom_spatial_label_repel 来自 ggspatial, 自动贴标签的另一种函数\n",
    "ggplot(data = wsheds_aea) +\n",
    "  geom_sf(color = \"black\",\n",
    "          size = 0.1) +\n",
    "  geom_spatial_label_repel(aes(x = X,\n",
    "                               y = Y, \n",
    "                               label = str_wrap(name, 15)),\n",
    "                           size = 3, \n",
    "                           fontface = \"bold\",\n",
    "                           crs = st_crs(wsheds_aea)) +\n",
    "  theme_void()"
   ]
  },
  {
   "cell_type": "code",
   "execution_count": 11,
   "id": "8f8f2e6e",
   "metadata": {},
   "outputs": [
    {
     "data": {
      "image/png": "[encoded data removed]",
      "text/plain": [
       "plot without title"
      ]
     },
     "metadata": {
      "image/png": {
       "height": 420,
       "width": 420
      }
     },
     "output_type": "display_data"
    }
   ],
   "source": [
    "ggplot() +\n",
    "  geom_sf(data = subwsh_aea, color = \"darkgray\") +\n",
    "  geom_sf(data = wsheds_aea, color = \"black\", fill = NA) +\n",
    "  annotation_scale(location = 'bl') +\n",
    "  theme_void()"
   ]
  },
  {
   "cell_type": "markdown",
   "id": "3144f27a",
   "metadata": {},
   "source": [
    "### 取出 North Deer Creek"
   ]
  },
  {
   "cell_type": "code",
   "execution_count": 12,
   "id": "1f2354cc",
   "metadata": {},
   "outputs": [],
   "source": [
    "wshed_ndc <- wsheds_aea %>%\n",
    "  filter(name == \"North Deer Creek\")"
   ]
  },
  {
   "cell_type": "code",
   "execution_count": 13,
   "id": "7d7c3cd9",
   "metadata": {},
   "outputs": [],
   "source": [
    "subwsh_ndc <- subwsh_aea %>%\n",
    "  filter(lengths(st_covered_by(., wshed_ndc)) > 0)"
   ]
  },
  {
   "cell_type": "markdown",
   "id": "d9b24f36",
   "metadata": {},
   "source": [
    "## 分区计算：Zonal Summaries of Discrete Raster Data"
   ]
  },
  {
   "cell_type": "code",
   "execution_count": 17,
   "id": "b8054dd7",
   "metadata": {},
   "outputs": [],
   "source": [
    "# 合并两张 tiff\n",
    "cdlstack <- c(crop2010, crop2020)\n",
    "names(cdlstack) <- c(\"2010\", \"2020\")\n",
    "\n",
    "cdl_crop <- crop(cdlstack, vect(subwsh_ndc))\n",
    "subwsh_msk <- rasterize(vect(subwsh_ndc), cdl_crop)\n",
    "cdl_mbs <- mask(cdl_crop, subwsh_msk)"
   ]
  },
  {
   "cell_type": "markdown",
   "id": "a8d08001",
   "metadata": {},
   "source": [
    "重新分类，把1（corn）和5（soybeans）合并、37（herbaceous wetlands）和176(non-alfalfa）合并"
   ]
  },
  {
   "cell_type": "code",
   "execution_count": 18,
   "id": "f4bb1269",
   "metadata": {},
   "outputs": [],
   "source": [
    "oldclas <- c(1, 5, 37, 176, 195)\n",
    "newclas <- c(1, 2, 3, 3, 3)\n",
    "lookup <- data.frame(oldclas, newclas)\n",
    "cdl_rc <- classify(cdl_mbs, \n",
    "                       rcl = lookup,\n",
    "                       others = 4)"
   ]
  },
  {
   "cell_type": "markdown",
   "id": "c3d6dd8d",
   "metadata": {},
   "source": [
    "栅格数据重新分类后，可视化"
   ]
  },
  {
   "cell_type": "code",
   "execution_count": 19,
   "id": "d4c5866e",
   "metadata": {},
   "outputs": [
    {
     "name": "stderr",
     "output_type": "stream",
     "text": [
      "Warning message:\n",
      "\"\u001b[1m\u001b[22mRemoved 928876 rows containing missing values (`geom_raster()`).\"\n"
     ]
    },
    {
     "data": {
      "image/png": "[encoded data removed]",
      "text/plain": [
       "plot without title"
      ]
     },
     "metadata": {
      "image/png": {
       "height": 420,
       "width": 420
      }
     },
     "output_type": "display_data"
    }
   ],
   "source": [
    "newnames <- c(\"Corn\",\n",
    "              \"Soybeans\",\n",
    "              \"Grass\",\n",
    "              \"Other\")\n",
    "newcols <- c(\"yellow\", \n",
    "             \"green\", \n",
    "             \"tan\", \n",
    "             \"gray60\")\n",
    "newcols2 <- desaturate(newcols, \n",
    "                       amount = 0.2)\n",
    "cdl_df <- rasterdf(cdl_rc)\n",
    "\n",
    "ggplot(data = cdl_df) +\n",
    "  geom_raster(aes(x = x, \n",
    "                  y = y, \n",
    "                  fill = \n",
    "                    as.character(value))) + \n",
    "  scale_fill_manual(name = \"Crop Type\",\n",
    "                    values = newcols2,\n",
    "                    labels = newnames,\n",
    "                    na.translate = FALSE) +\n",
    "  geom_sf(data = subwsh_ndc,\n",
    "          fill = NA) +\n",
    "  facet_wrap(facets = vars(variable), ncol = 2) +\n",
    "  theme_void() +\n",
    "  theme(strip.text.x = element_text(size=12, face=\"bold\"))"
   ]
  },
  {
   "cell_type": "code",
   "execution_count": 20,
   "id": "acd9be45",
   "metadata": {},
   "outputs": [],
   "source": [
    "# 把 watershed polygon 转化为栅格数据，匹配到土地的栅格数据上\n",
    "subwsh_r <- rasterize(vect(subwsh_ndc), \n",
    "                      cdl_rc, \n",
    "                      field = \"ObjectID\")\n",
    "\n",
    "# crosstab 用来计算每个 polygon 内部不同作物类型的 cells 数目\n",
    "cdlsum10 <- crosstab(c(subwsh_r, cdl_rc[[\"2010\"]]))\n",
    "cdlsum10 <- as_tibble(cdlsum10)\n",
    "cdlsum20 <- crosstab(c(subwsh_r, cdl_rc[[\"2020\"]]))\n",
    "cdlsum20 <- as_tibble(cdlsum20)"
   ]
  },
  {
   "cell_type": "code",
   "execution_count": 21,
   "id": "afb33b98",
   "metadata": {},
   "outputs": [
    {
     "data": {
      "text/html": [
       "<table class=\"dataframe\">\n",
       "<caption>A tibble: 16 × 4</caption>\n",
       "<thead>\n",
       "\t<tr><th scope=col>ObjectID</th><th scope=col>X2010</th><th scope=col>n.x</th><th scope=col>n.y</th></tr>\n",
       "\t<tr><th scope=col>&lt;chr&gt;</th><th scope=col>&lt;chr&gt;</th><th scope=col>&lt;int&gt;</th><th scope=col>&lt;int&gt;</th></tr>\n",
       "</thead>\n",
       "<tbody>\n",
       "\t<tr><td>38</td><td>1</td><td>42810</td><td>53551</td></tr>\n",
       "\t<tr><td>39</td><td>1</td><td>22745</td><td>26070</td></tr>\n",
       "\t<tr><td>40</td><td>1</td><td>35535</td><td>37192</td></tr>\n",
       "\t<tr><td>41</td><td>1</td><td> 6603</td><td> 8636</td></tr>\n",
       "\t<tr><td>38</td><td>2</td><td>48192</td><td>43019</td></tr>\n",
       "\t<tr><td>39</td><td>2</td><td>22238</td><td>19146</td></tr>\n",
       "\t<tr><td>40</td><td>2</td><td>40287</td><td>41062</td></tr>\n",
       "\t<tr><td>41</td><td>2</td><td> 8704</td><td> 6928</td></tr>\n",
       "\t<tr><td>38</td><td>3</td><td>32396</td><td>25490</td></tr>\n",
       "\t<tr><td>39</td><td>3</td><td>13584</td><td>12382</td></tr>\n",
       "\t<tr><td>40</td><td>3</td><td>19865</td><td>16614</td></tr>\n",
       "\t<tr><td>41</td><td>3</td><td>17892</td><td>16703</td></tr>\n",
       "\t<tr><td>38</td><td>4</td><td>21846</td><td>23184</td></tr>\n",
       "\t<tr><td>39</td><td>4</td><td> 7172</td><td> 8141</td></tr>\n",
       "\t<tr><td>40</td><td>4</td><td>13298</td><td>14117</td></tr>\n",
       "\t<tr><td>41</td><td>4</td><td> 7155</td><td> 8087</td></tr>\n",
       "</tbody>\n",
       "</table>\n"
      ],
      "text/latex": [
       "A tibble: 16 × 4\n",
       "\\begin{tabular}{llll}\n",
       " ObjectID & X2010 & n.x & n.y\\\\\n",
       " <chr> & <chr> & <int> & <int>\\\\\n",
       "\\hline\n",
       "\t 38 & 1 & 42810 & 53551\\\\\n",
       "\t 39 & 1 & 22745 & 26070\\\\\n",
       "\t 40 & 1 & 35535 & 37192\\\\\n",
       "\t 41 & 1 &  6603 &  8636\\\\\n",
       "\t 38 & 2 & 48192 & 43019\\\\\n",
       "\t 39 & 2 & 22238 & 19146\\\\\n",
       "\t 40 & 2 & 40287 & 41062\\\\\n",
       "\t 41 & 2 &  8704 &  6928\\\\\n",
       "\t 38 & 3 & 32396 & 25490\\\\\n",
       "\t 39 & 3 & 13584 & 12382\\\\\n",
       "\t 40 & 3 & 19865 & 16614\\\\\n",
       "\t 41 & 3 & 17892 & 16703\\\\\n",
       "\t 38 & 4 & 21846 & 23184\\\\\n",
       "\t 39 & 4 &  7172 &  8141\\\\\n",
       "\t 40 & 4 & 13298 & 14117\\\\\n",
       "\t 41 & 4 &  7155 &  8087\\\\\n",
       "\\end{tabular}\n"
      ],
      "text/markdown": [
       "\n",
       "A tibble: 16 × 4\n",
       "\n",
       "| ObjectID &lt;chr&gt; | X2010 &lt;chr&gt; | n.x &lt;int&gt; | n.y &lt;int&gt; |\n",
       "|---|---|---|---|\n",
       "| 38 | 1 | 42810 | 53551 |\n",
       "| 39 | 1 | 22745 | 26070 |\n",
       "| 40 | 1 | 35535 | 37192 |\n",
       "| 41 | 1 |  6603 |  8636 |\n",
       "| 38 | 2 | 48192 | 43019 |\n",
       "| 39 | 2 | 22238 | 19146 |\n",
       "| 40 | 2 | 40287 | 41062 |\n",
       "| 41 | 2 |  8704 |  6928 |\n",
       "| 38 | 3 | 32396 | 25490 |\n",
       "| 39 | 3 | 13584 | 12382 |\n",
       "| 40 | 3 | 19865 | 16614 |\n",
       "| 41 | 3 | 17892 | 16703 |\n",
       "| 38 | 4 | 21846 | 23184 |\n",
       "| 39 | 4 |  7172 |  8141 |\n",
       "| 40 | 4 | 13298 | 14117 |\n",
       "| 41 | 4 |  7155 |  8087 |\n",
       "\n"
      ],
      "text/plain": [
       "   ObjectID X2010 n.x   n.y  \n",
       "1  38       1     42810 53551\n",
       "2  39       1     22745 26070\n",
       "3  40       1     35535 37192\n",
       "4  41       1      6603  8636\n",
       "5  38       2     48192 43019\n",
       "6  39       2     22238 19146\n",
       "7  40       2     40287 41062\n",
       "8  41       2      8704  6928\n",
       "9  38       3     32396 25490\n",
       "10 39       3     13584 12382\n",
       "11 40       3     19865 16614\n",
       "12 41       3     17892 16703\n",
       "13 38       4     21846 23184\n",
       "14 39       4      7172  8141\n",
       "15 40       4     13298 14117\n",
       "16 41       4      7155  8087"
      ]
     },
     "metadata": {},
     "output_type": "display_data"
    }
   ],
   "source": [
    "cdljoin <- cdlsum10 %>%\n",
    "  inner_join(cdlsum20,\n",
    "             by = c(\"ObjectID\" = \"ObjectID\",\n",
    "                    \"X2010\" = \"X2020\")) \n",
    "cdljoin"
   ]
  },
  {
   "cell_type": "code",
   "execution_count": 22,
   "id": "cb516531",
   "metadata": {},
   "outputs": [
    {
     "data": {
      "text/html": [
       "<table class=\"dataframe\">\n",
       "<caption>A tibble: 16 × 4</caption>\n",
       "<thead>\n",
       "\t<tr><th scope=col>ObjectID</th><th scope=col>cnt2010</th><th scope=col>cnt2020</th><th scope=col>croptype</th></tr>\n",
       "\t<tr><th scope=col>&lt;dbl&gt;</th><th scope=col>&lt;int&gt;</th><th scope=col>&lt;int&gt;</th><th scope=col>&lt;fct&gt;</th></tr>\n",
       "</thead>\n",
       "<tbody>\n",
       "\t<tr><td>38</td><td>42810</td><td>53551</td><td>Corn    </td></tr>\n",
       "\t<tr><td>39</td><td>22745</td><td>26070</td><td>Corn    </td></tr>\n",
       "\t<tr><td>40</td><td>35535</td><td>37192</td><td>Corn    </td></tr>\n",
       "\t<tr><td>41</td><td> 6603</td><td> 8636</td><td>Corn    </td></tr>\n",
       "\t<tr><td>38</td><td>48192</td><td>43019</td><td>Soybeans</td></tr>\n",
       "\t<tr><td>39</td><td>22238</td><td>19146</td><td>Soybeans</td></tr>\n",
       "\t<tr><td>40</td><td>40287</td><td>41062</td><td>Soybeans</td></tr>\n",
       "\t<tr><td>41</td><td> 8704</td><td> 6928</td><td>Soybeans</td></tr>\n",
       "\t<tr><td>38</td><td>32396</td><td>25490</td><td>Grass   </td></tr>\n",
       "\t<tr><td>39</td><td>13584</td><td>12382</td><td>Grass   </td></tr>\n",
       "\t<tr><td>40</td><td>19865</td><td>16614</td><td>Grass   </td></tr>\n",
       "\t<tr><td>41</td><td>17892</td><td>16703</td><td>Grass   </td></tr>\n",
       "\t<tr><td>38</td><td>21846</td><td>23184</td><td>Other   </td></tr>\n",
       "\t<tr><td>39</td><td> 7172</td><td> 8141</td><td>Other   </td></tr>\n",
       "\t<tr><td>40</td><td>13298</td><td>14117</td><td>Other   </td></tr>\n",
       "\t<tr><td>41</td><td> 7155</td><td> 8087</td><td>Other   </td></tr>\n",
       "</tbody>\n",
       "</table>\n"
      ],
      "text/latex": [
       "A tibble: 16 × 4\n",
       "\\begin{tabular}{llll}\n",
       " ObjectID & cnt2010 & cnt2020 & croptype\\\\\n",
       " <dbl> & <int> & <int> & <fct>\\\\\n",
       "\\hline\n",
       "\t 38 & 42810 & 53551 & Corn    \\\\\n",
       "\t 39 & 22745 & 26070 & Corn    \\\\\n",
       "\t 40 & 35535 & 37192 & Corn    \\\\\n",
       "\t 41 &  6603 &  8636 & Corn    \\\\\n",
       "\t 38 & 48192 & 43019 & Soybeans\\\\\n",
       "\t 39 & 22238 & 19146 & Soybeans\\\\\n",
       "\t 40 & 40287 & 41062 & Soybeans\\\\\n",
       "\t 41 &  8704 &  6928 & Soybeans\\\\\n",
       "\t 38 & 32396 & 25490 & Grass   \\\\\n",
       "\t 39 & 13584 & 12382 & Grass   \\\\\n",
       "\t 40 & 19865 & 16614 & Grass   \\\\\n",
       "\t 41 & 17892 & 16703 & Grass   \\\\\n",
       "\t 38 & 21846 & 23184 & Other   \\\\\n",
       "\t 39 &  7172 &  8141 & Other   \\\\\n",
       "\t 40 & 13298 & 14117 & Other   \\\\\n",
       "\t 41 &  7155 &  8087 & Other   \\\\\n",
       "\\end{tabular}\n"
      ],
      "text/markdown": [
       "\n",
       "A tibble: 16 × 4\n",
       "\n",
       "| ObjectID &lt;dbl&gt; | cnt2010 &lt;int&gt; | cnt2020 &lt;int&gt; | croptype &lt;fct&gt; |\n",
       "|---|---|---|---|\n",
       "| 38 | 42810 | 53551 | Corn     |\n",
       "| 39 | 22745 | 26070 | Corn     |\n",
       "| 40 | 35535 | 37192 | Corn     |\n",
       "| 41 |  6603 |  8636 | Corn     |\n",
       "| 38 | 48192 | 43019 | Soybeans |\n",
       "| 39 | 22238 | 19146 | Soybeans |\n",
       "| 40 | 40287 | 41062 | Soybeans |\n",
       "| 41 |  8704 |  6928 | Soybeans |\n",
       "| 38 | 32396 | 25490 | Grass    |\n",
       "| 39 | 13584 | 12382 | Grass    |\n",
       "| 40 | 19865 | 16614 | Grass    |\n",
       "| 41 | 17892 | 16703 | Grass    |\n",
       "| 38 | 21846 | 23184 | Other    |\n",
       "| 39 |  7172 |  8141 | Other    |\n",
       "| 40 | 13298 | 14117 | Other    |\n",
       "| 41 |  7155 |  8087 | Other    |\n",
       "\n"
      ],
      "text/plain": [
       "   ObjectID cnt2010 cnt2020 croptype\n",
       "1  38       42810   53551   Corn    \n",
       "2  39       22745   26070   Corn    \n",
       "3  40       35535   37192   Corn    \n",
       "4  41        6603    8636   Corn    \n",
       "5  38       48192   43019   Soybeans\n",
       "6  39       22238   19146   Soybeans\n",
       "7  40       40287   41062   Soybeans\n",
       "8  41        8704    6928   Soybeans\n",
       "9  38       32396   25490   Grass   \n",
       "10 39       13584   12382   Grass   \n",
       "11 40       19865   16614   Grass   \n",
       "12 41       17892   16703   Grass   \n",
       "13 38       21846   23184   Other   \n",
       "14 39        7172    8141   Other   \n",
       "15 40       13298   14117   Other   \n",
       "16 41        7155    8087   Other   "
      ]
     },
     "metadata": {},
     "output_type": "display_data"
    }
   ],
   "source": [
    "cdljoin2 <- cdljoin %>%\n",
    "  mutate(croptype = factor(X2010,\n",
    "                           labels = newnames),\n",
    "         ObjectID = as.numeric(ObjectID)) %>%\n",
    "  select(-X2010) %>%\n",
    "  rename(\"cnt2010\" = \"n.x\",\n",
    "         \"cnt2020\" = \"n.y\")\n",
    "cdljoin2"
   ]
  },
  {
   "cell_type": "markdown",
   "id": "a998912a",
   "metadata": {},
   "source": []
  },
  {
   "cell_type": "code",
   "execution_count": 23,
   "id": "1bb0fd53",
   "metadata": {},
   "outputs": [
    {
     "data": {
      "text/html": [
       "<table class=\"dataframe\">\n",
       "<caption>A tibble: 32 × 4</caption>\n",
       "<thead>\n",
       "\t<tr><th scope=col>ObjectID</th><th scope=col>croptype</th><th scope=col>year</th><th scope=col>cnt</th></tr>\n",
       "\t<tr><th scope=col>&lt;dbl&gt;</th><th scope=col>&lt;fct&gt;</th><th scope=col>&lt;dbl&gt;</th><th scope=col>&lt;int&gt;</th></tr>\n",
       "</thead>\n",
       "<tbody>\n",
       "\t<tr><td>38</td><td>Corn    </td><td>2010</td><td>42810</td></tr>\n",
       "\t<tr><td>38</td><td>Corn    </td><td>2020</td><td>53551</td></tr>\n",
       "\t<tr><td>39</td><td>Corn    </td><td>2010</td><td>22745</td></tr>\n",
       "\t<tr><td>39</td><td>Corn    </td><td>2020</td><td>26070</td></tr>\n",
       "\t<tr><td>40</td><td>Corn    </td><td>2010</td><td>35535</td></tr>\n",
       "\t<tr><td>40</td><td>Corn    </td><td>2020</td><td>37192</td></tr>\n",
       "\t<tr><td>41</td><td>Corn    </td><td>2010</td><td> 6603</td></tr>\n",
       "\t<tr><td>41</td><td>Corn    </td><td>2020</td><td> 8636</td></tr>\n",
       "\t<tr><td>38</td><td>Soybeans</td><td>2010</td><td>48192</td></tr>\n",
       "\t<tr><td>38</td><td>Soybeans</td><td>2020</td><td>43019</td></tr>\n",
       "\t<tr><td>39</td><td>Soybeans</td><td>2010</td><td>22238</td></tr>\n",
       "\t<tr><td>39</td><td>Soybeans</td><td>2020</td><td>19146</td></tr>\n",
       "\t<tr><td>40</td><td>Soybeans</td><td>2010</td><td>40287</td></tr>\n",
       "\t<tr><td>40</td><td>Soybeans</td><td>2020</td><td>41062</td></tr>\n",
       "\t<tr><td>41</td><td>Soybeans</td><td>2010</td><td> 8704</td></tr>\n",
       "\t<tr><td>41</td><td>Soybeans</td><td>2020</td><td> 6928</td></tr>\n",
       "\t<tr><td>38</td><td>Grass   </td><td>2010</td><td>32396</td></tr>\n",
       "\t<tr><td>38</td><td>Grass   </td><td>2020</td><td>25490</td></tr>\n",
       "\t<tr><td>39</td><td>Grass   </td><td>2010</td><td>13584</td></tr>\n",
       "\t<tr><td>39</td><td>Grass   </td><td>2020</td><td>12382</td></tr>\n",
       "\t<tr><td>40</td><td>Grass   </td><td>2010</td><td>19865</td></tr>\n",
       "\t<tr><td>40</td><td>Grass   </td><td>2020</td><td>16614</td></tr>\n",
       "\t<tr><td>41</td><td>Grass   </td><td>2010</td><td>17892</td></tr>\n",
       "\t<tr><td>41</td><td>Grass   </td><td>2020</td><td>16703</td></tr>\n",
       "\t<tr><td>38</td><td>Other   </td><td>2010</td><td>21846</td></tr>\n",
       "\t<tr><td>38</td><td>Other   </td><td>2020</td><td>23184</td></tr>\n",
       "\t<tr><td>39</td><td>Other   </td><td>2010</td><td> 7172</td></tr>\n",
       "\t<tr><td>39</td><td>Other   </td><td>2020</td><td> 8141</td></tr>\n",
       "\t<tr><td>40</td><td>Other   </td><td>2010</td><td>13298</td></tr>\n",
       "\t<tr><td>40</td><td>Other   </td><td>2020</td><td>14117</td></tr>\n",
       "\t<tr><td>41</td><td>Other   </td><td>2010</td><td> 7155</td></tr>\n",
       "\t<tr><td>41</td><td>Other   </td><td>2020</td><td> 8087</td></tr>\n",
       "</tbody>\n",
       "</table>\n"
      ],
      "text/latex": [
       "A tibble: 32 × 4\n",
       "\\begin{tabular}{llll}\n",
       " ObjectID & croptype & year & cnt\\\\\n",
       " <dbl> & <fct> & <dbl> & <int>\\\\\n",
       "\\hline\n",
       "\t 38 & Corn     & 2010 & 42810\\\\\n",
       "\t 38 & Corn     & 2020 & 53551\\\\\n",
       "\t 39 & Corn     & 2010 & 22745\\\\\n",
       "\t 39 & Corn     & 2020 & 26070\\\\\n",
       "\t 40 & Corn     & 2010 & 35535\\\\\n",
       "\t 40 & Corn     & 2020 & 37192\\\\\n",
       "\t 41 & Corn     & 2010 &  6603\\\\\n",
       "\t 41 & Corn     & 2020 &  8636\\\\\n",
       "\t 38 & Soybeans & 2010 & 48192\\\\\n",
       "\t 38 & Soybeans & 2020 & 43019\\\\\n",
       "\t 39 & Soybeans & 2010 & 22238\\\\\n",
       "\t 39 & Soybeans & 2020 & 19146\\\\\n",
       "\t 40 & Soybeans & 2010 & 40287\\\\\n",
       "\t 40 & Soybeans & 2020 & 41062\\\\\n",
       "\t 41 & Soybeans & 2010 &  8704\\\\\n",
       "\t 41 & Soybeans & 2020 &  6928\\\\\n",
       "\t 38 & Grass    & 2010 & 32396\\\\\n",
       "\t 38 & Grass    & 2020 & 25490\\\\\n",
       "\t 39 & Grass    & 2010 & 13584\\\\\n",
       "\t 39 & Grass    & 2020 & 12382\\\\\n",
       "\t 40 & Grass    & 2010 & 19865\\\\\n",
       "\t 40 & Grass    & 2020 & 16614\\\\\n",
       "\t 41 & Grass    & 2010 & 17892\\\\\n",
       "\t 41 & Grass    & 2020 & 16703\\\\\n",
       "\t 38 & Other    & 2010 & 21846\\\\\n",
       "\t 38 & Other    & 2020 & 23184\\\\\n",
       "\t 39 & Other    & 2010 &  7172\\\\\n",
       "\t 39 & Other    & 2020 &  8141\\\\\n",
       "\t 40 & Other    & 2010 & 13298\\\\\n",
       "\t 40 & Other    & 2020 & 14117\\\\\n",
       "\t 41 & Other    & 2010 &  7155\\\\\n",
       "\t 41 & Other    & 2020 &  8087\\\\\n",
       "\\end{tabular}\n"
      ],
      "text/markdown": [
       "\n",
       "A tibble: 32 × 4\n",
       "\n",
       "| ObjectID &lt;dbl&gt; | croptype &lt;fct&gt; | year &lt;dbl&gt; | cnt &lt;int&gt; |\n",
       "|---|---|---|---|\n",
       "| 38 | Corn     | 2010 | 42810 |\n",
       "| 38 | Corn     | 2020 | 53551 |\n",
       "| 39 | Corn     | 2010 | 22745 |\n",
       "| 39 | Corn     | 2020 | 26070 |\n",
       "| 40 | Corn     | 2010 | 35535 |\n",
       "| 40 | Corn     | 2020 | 37192 |\n",
       "| 41 | Corn     | 2010 |  6603 |\n",
       "| 41 | Corn     | 2020 |  8636 |\n",
       "| 38 | Soybeans | 2010 | 48192 |\n",
       "| 38 | Soybeans | 2020 | 43019 |\n",
       "| 39 | Soybeans | 2010 | 22238 |\n",
       "| 39 | Soybeans | 2020 | 19146 |\n",
       "| 40 | Soybeans | 2010 | 40287 |\n",
       "| 40 | Soybeans | 2020 | 41062 |\n",
       "| 41 | Soybeans | 2010 |  8704 |\n",
       "| 41 | Soybeans | 2020 |  6928 |\n",
       "| 38 | Grass    | 2010 | 32396 |\n",
       "| 38 | Grass    | 2020 | 25490 |\n",
       "| 39 | Grass    | 2010 | 13584 |\n",
       "| 39 | Grass    | 2020 | 12382 |\n",
       "| 40 | Grass    | 2010 | 19865 |\n",
       "| 40 | Grass    | 2020 | 16614 |\n",
       "| 41 | Grass    | 2010 | 17892 |\n",
       "| 41 | Grass    | 2020 | 16703 |\n",
       "| 38 | Other    | 2010 | 21846 |\n",
       "| 38 | Other    | 2020 | 23184 |\n",
       "| 39 | Other    | 2010 |  7172 |\n",
       "| 39 | Other    | 2020 |  8141 |\n",
       "| 40 | Other    | 2010 | 13298 |\n",
       "| 40 | Other    | 2020 | 14117 |\n",
       "| 41 | Other    | 2010 |  7155 |\n",
       "| 41 | Other    | 2020 |  8087 |\n",
       "\n"
      ],
      "text/plain": [
       "   ObjectID croptype year cnt  \n",
       "1  38       Corn     2010 42810\n",
       "2  38       Corn     2020 53551\n",
       "3  39       Corn     2010 22745\n",
       "4  39       Corn     2020 26070\n",
       "5  40       Corn     2010 35535\n",
       "6  40       Corn     2020 37192\n",
       "7  41       Corn     2010  6603\n",
       "8  41       Corn     2020  8636\n",
       "9  38       Soybeans 2010 48192\n",
       "10 38       Soybeans 2020 43019\n",
       "11 39       Soybeans 2010 22238\n",
       "12 39       Soybeans 2020 19146\n",
       "13 40       Soybeans 2010 40287\n",
       "14 40       Soybeans 2020 41062\n",
       "15 41       Soybeans 2010  8704\n",
       "16 41       Soybeans 2020  6928\n",
       "17 38       Grass    2010 32396\n",
       "18 38       Grass    2020 25490\n",
       "19 39       Grass    2010 13584\n",
       "20 39       Grass    2020 12382\n",
       "21 40       Grass    2010 19865\n",
       "22 40       Grass    2020 16614\n",
       "23 41       Grass    2010 17892\n",
       "24 41       Grass    2020 16703\n",
       "25 38       Other    2010 21846\n",
       "26 38       Other    2020 23184\n",
       "27 39       Other    2010  7172\n",
       "28 39       Other    2020  8141\n",
       "29 40       Other    2010 13298\n",
       "30 40       Other    2020 14117\n",
       "31 41       Other    2010  7155\n",
       "32 41       Other    2020  8087"
      ]
     },
     "metadata": {},
     "output_type": "display_data"
    }
   ],
   "source": [
    "cdlpivot <- cdljoin2 %>%\n",
    "  pivot_longer(cols = starts_with(\"cnt\"),\n",
    "               names_to = \"year\",\n",
    "               values_to = \"cnt\") %>%\n",
    "  mutate(year = parse_number(year)) \n",
    "cdlpivot"
   ]
  },
  {
   "cell_type": "code",
   "execution_count": 24,
   "id": "282257d7",
   "metadata": {},
   "outputs": [
    {
     "data": {
      "text/html": [
       "<table class=\"dataframe\">\n",
       "<caption>A grouped_df: 32 × 6</caption>\n",
       "<thead>\n",
       "\t<tr><th scope=col>ObjectID</th><th scope=col>croptype</th><th scope=col>year</th><th scope=col>cnt</th><th scope=col>tot</th><th scope=col>perc_crop</th></tr>\n",
       "\t<tr><th scope=col>&lt;dbl&gt;</th><th scope=col>&lt;fct&gt;</th><th scope=col>&lt;dbl&gt;</th><th scope=col>&lt;int&gt;</th><th scope=col>&lt;int&gt;</th><th scope=col>&lt;dbl&gt;</th></tr>\n",
       "</thead>\n",
       "<tbody>\n",
       "\t<tr><td>38</td><td>Corn    </td><td>2010</td><td>42810</td><td>145244</td><td>29.47454</td></tr>\n",
       "\t<tr><td>38</td><td>Corn    </td><td>2020</td><td>53551</td><td>145244</td><td>36.86968</td></tr>\n",
       "\t<tr><td>39</td><td>Corn    </td><td>2010</td><td>22745</td><td> 65739</td><td>34.59894</td></tr>\n",
       "\t<tr><td>39</td><td>Corn    </td><td>2020</td><td>26070</td><td> 65739</td><td>39.65682</td></tr>\n",
       "\t<tr><td>40</td><td>Corn    </td><td>2010</td><td>35535</td><td>108985</td><td>32.60540</td></tr>\n",
       "\t<tr><td>40</td><td>Corn    </td><td>2020</td><td>37192</td><td>108985</td><td>34.12580</td></tr>\n",
       "\t<tr><td>41</td><td>Corn    </td><td>2010</td><td> 6603</td><td> 40354</td><td>16.36269</td></tr>\n",
       "\t<tr><td>41</td><td>Corn    </td><td>2020</td><td> 8636</td><td> 40354</td><td>21.40060</td></tr>\n",
       "\t<tr><td>38</td><td>Soybeans</td><td>2010</td><td>48192</td><td>145244</td><td>33.18003</td></tr>\n",
       "\t<tr><td>38</td><td>Soybeans</td><td>2020</td><td>43019</td><td>145244</td><td>29.61844</td></tr>\n",
       "\t<tr><td>39</td><td>Soybeans</td><td>2010</td><td>22238</td><td> 65739</td><td>33.82771</td></tr>\n",
       "\t<tr><td>39</td><td>Soybeans</td><td>2020</td><td>19146</td><td> 65739</td><td>29.12426</td></tr>\n",
       "\t<tr><td>40</td><td>Soybeans</td><td>2010</td><td>40287</td><td>108985</td><td>36.96564</td></tr>\n",
       "\t<tr><td>40</td><td>Soybeans</td><td>2020</td><td>41062</td><td>108985</td><td>37.67674</td></tr>\n",
       "\t<tr><td>41</td><td>Soybeans</td><td>2010</td><td> 8704</td><td> 40354</td><td>21.56911</td></tr>\n",
       "\t<tr><td>41</td><td>Soybeans</td><td>2020</td><td> 6928</td><td> 40354</td><td>17.16806</td></tr>\n",
       "\t<tr><td>38</td><td>Grass   </td><td>2010</td><td>32396</td><td>145244</td><td>22.30454</td></tr>\n",
       "\t<tr><td>38</td><td>Grass   </td><td>2020</td><td>25490</td><td>145244</td><td>17.54978</td></tr>\n",
       "\t<tr><td>39</td><td>Grass   </td><td>2010</td><td>13584</td><td> 65739</td><td>20.66353</td></tr>\n",
       "\t<tr><td>39</td><td>Grass   </td><td>2020</td><td>12382</td><td> 65739</td><td>18.83509</td></tr>\n",
       "\t<tr><td>40</td><td>Grass   </td><td>2010</td><td>19865</td><td>108985</td><td>18.22728</td></tr>\n",
       "\t<tr><td>40</td><td>Grass   </td><td>2020</td><td>16614</td><td>108985</td><td>15.24430</td></tr>\n",
       "\t<tr><td>41</td><td>Grass   </td><td>2010</td><td>17892</td><td> 40354</td><td>44.33761</td></tr>\n",
       "\t<tr><td>41</td><td>Grass   </td><td>2020</td><td>16703</td><td> 40354</td><td>41.39119</td></tr>\n",
       "\t<tr><td>38</td><td>Other   </td><td>2010</td><td>21846</td><td>145244</td><td>15.04090</td></tr>\n",
       "\t<tr><td>38</td><td>Other   </td><td>2020</td><td>23184</td><td>145244</td><td>15.96211</td></tr>\n",
       "\t<tr><td>39</td><td>Other   </td><td>2010</td><td> 7172</td><td> 65739</td><td>10.90981</td></tr>\n",
       "\t<tr><td>39</td><td>Other   </td><td>2020</td><td> 8141</td><td> 65739</td><td>12.38382</td></tr>\n",
       "\t<tr><td>40</td><td>Other   </td><td>2010</td><td>13298</td><td>108985</td><td>12.20168</td></tr>\n",
       "\t<tr><td>40</td><td>Other   </td><td>2020</td><td>14117</td><td>108985</td><td>12.95316</td></tr>\n",
       "\t<tr><td>41</td><td>Other   </td><td>2010</td><td> 7155</td><td> 40354</td><td>17.73058</td></tr>\n",
       "\t<tr><td>41</td><td>Other   </td><td>2020</td><td> 8087</td><td> 40354</td><td>20.04014</td></tr>\n",
       "</tbody>\n",
       "</table>\n"
      ],
      "text/latex": [
       "A grouped\\_df: 32 × 6\n",
       "\\begin{tabular}{llllll}\n",
       " ObjectID & croptype & year & cnt & tot & perc\\_crop\\\\\n",
       " <dbl> & <fct> & <dbl> & <int> & <int> & <dbl>\\\\\n",
       "\\hline\n",
       "\t 38 & Corn     & 2010 & 42810 & 145244 & 29.47454\\\\\n",
       "\t 38 & Corn     & 2020 & 53551 & 145244 & 36.86968\\\\\n",
       "\t 39 & Corn     & 2010 & 22745 &  65739 & 34.59894\\\\\n",
       "\t 39 & Corn     & 2020 & 26070 &  65739 & 39.65682\\\\\n",
       "\t 40 & Corn     & 2010 & 35535 & 108985 & 32.60540\\\\\n",
       "\t 40 & Corn     & 2020 & 37192 & 108985 & 34.12580\\\\\n",
       "\t 41 & Corn     & 2010 &  6603 &  40354 & 16.36269\\\\\n",
       "\t 41 & Corn     & 2020 &  8636 &  40354 & 21.40060\\\\\n",
       "\t 38 & Soybeans & 2010 & 48192 & 145244 & 33.18003\\\\\n",
       "\t 38 & Soybeans & 2020 & 43019 & 145244 & 29.61844\\\\\n",
       "\t 39 & Soybeans & 2010 & 22238 &  65739 & 33.82771\\\\\n",
       "\t 39 & Soybeans & 2020 & 19146 &  65739 & 29.12426\\\\\n",
       "\t 40 & Soybeans & 2010 & 40287 & 108985 & 36.96564\\\\\n",
       "\t 40 & Soybeans & 2020 & 41062 & 108985 & 37.67674\\\\\n",
       "\t 41 & Soybeans & 2010 &  8704 &  40354 & 21.56911\\\\\n",
       "\t 41 & Soybeans & 2020 &  6928 &  40354 & 17.16806\\\\\n",
       "\t 38 & Grass    & 2010 & 32396 & 145244 & 22.30454\\\\\n",
       "\t 38 & Grass    & 2020 & 25490 & 145244 & 17.54978\\\\\n",
       "\t 39 & Grass    & 2010 & 13584 &  65739 & 20.66353\\\\\n",
       "\t 39 & Grass    & 2020 & 12382 &  65739 & 18.83509\\\\\n",
       "\t 40 & Grass    & 2010 & 19865 & 108985 & 18.22728\\\\\n",
       "\t 40 & Grass    & 2020 & 16614 & 108985 & 15.24430\\\\\n",
       "\t 41 & Grass    & 2010 & 17892 &  40354 & 44.33761\\\\\n",
       "\t 41 & Grass    & 2020 & 16703 &  40354 & 41.39119\\\\\n",
       "\t 38 & Other    & 2010 & 21846 & 145244 & 15.04090\\\\\n",
       "\t 38 & Other    & 2020 & 23184 & 145244 & 15.96211\\\\\n",
       "\t 39 & Other    & 2010 &  7172 &  65739 & 10.90981\\\\\n",
       "\t 39 & Other    & 2020 &  8141 &  65739 & 12.38382\\\\\n",
       "\t 40 & Other    & 2010 & 13298 & 108985 & 12.20168\\\\\n",
       "\t 40 & Other    & 2020 & 14117 & 108985 & 12.95316\\\\\n",
       "\t 41 & Other    & 2010 &  7155 &  40354 & 17.73058\\\\\n",
       "\t 41 & Other    & 2020 &  8087 &  40354 & 20.04014\\\\\n",
       "\\end{tabular}\n"
      ],
      "text/markdown": [
       "\n",
       "A grouped_df: 32 × 6\n",
       "\n",
       "| ObjectID &lt;dbl&gt; | croptype &lt;fct&gt; | year &lt;dbl&gt; | cnt &lt;int&gt; | tot &lt;int&gt; | perc_crop &lt;dbl&gt; |\n",
       "|---|---|---|---|---|---|\n",
       "| 38 | Corn     | 2010 | 42810 | 145244 | 29.47454 |\n",
       "| 38 | Corn     | 2020 | 53551 | 145244 | 36.86968 |\n",
       "| 39 | Corn     | 2010 | 22745 |  65739 | 34.59894 |\n",
       "| 39 | Corn     | 2020 | 26070 |  65739 | 39.65682 |\n",
       "| 40 | Corn     | 2010 | 35535 | 108985 | 32.60540 |\n",
       "| 40 | Corn     | 2020 | 37192 | 108985 | 34.12580 |\n",
       "| 41 | Corn     | 2010 |  6603 |  40354 | 16.36269 |\n",
       "| 41 | Corn     | 2020 |  8636 |  40354 | 21.40060 |\n",
       "| 38 | Soybeans | 2010 | 48192 | 145244 | 33.18003 |\n",
       "| 38 | Soybeans | 2020 | 43019 | 145244 | 29.61844 |\n",
       "| 39 | Soybeans | 2010 | 22238 |  65739 | 33.82771 |\n",
       "| 39 | Soybeans | 2020 | 19146 |  65739 | 29.12426 |\n",
       "| 40 | Soybeans | 2010 | 40287 | 108985 | 36.96564 |\n",
       "| 40 | Soybeans | 2020 | 41062 | 108985 | 37.67674 |\n",
       "| 41 | Soybeans | 2010 |  8704 |  40354 | 21.56911 |\n",
       "| 41 | Soybeans | 2020 |  6928 |  40354 | 17.16806 |\n",
       "| 38 | Grass    | 2010 | 32396 | 145244 | 22.30454 |\n",
       "| 38 | Grass    | 2020 | 25490 | 145244 | 17.54978 |\n",
       "| 39 | Grass    | 2010 | 13584 |  65739 | 20.66353 |\n",
       "| 39 | Grass    | 2020 | 12382 |  65739 | 18.83509 |\n",
       "| 40 | Grass    | 2010 | 19865 | 108985 | 18.22728 |\n",
       "| 40 | Grass    | 2020 | 16614 | 108985 | 15.24430 |\n",
       "| 41 | Grass    | 2010 | 17892 |  40354 | 44.33761 |\n",
       "| 41 | Grass    | 2020 | 16703 |  40354 | 41.39119 |\n",
       "| 38 | Other    | 2010 | 21846 | 145244 | 15.04090 |\n",
       "| 38 | Other    | 2020 | 23184 | 145244 | 15.96211 |\n",
       "| 39 | Other    | 2010 |  7172 |  65739 | 10.90981 |\n",
       "| 39 | Other    | 2020 |  8141 |  65739 | 12.38382 |\n",
       "| 40 | Other    | 2010 | 13298 | 108985 | 12.20168 |\n",
       "| 40 | Other    | 2020 | 14117 | 108985 | 12.95316 |\n",
       "| 41 | Other    | 2010 |  7155 |  40354 | 17.73058 |\n",
       "| 41 | Other    | 2020 |  8087 |  40354 | 20.04014 |\n",
       "\n"
      ],
      "text/plain": [
       "   ObjectID croptype year cnt   tot    perc_crop\n",
       "1  38       Corn     2010 42810 145244 29.47454 \n",
       "2  38       Corn     2020 53551 145244 36.86968 \n",
       "3  39       Corn     2010 22745  65739 34.59894 \n",
       "4  39       Corn     2020 26070  65739 39.65682 \n",
       "5  40       Corn     2010 35535 108985 32.60540 \n",
       "6  40       Corn     2020 37192 108985 34.12580 \n",
       "7  41       Corn     2010  6603  40354 16.36269 \n",
       "8  41       Corn     2020  8636  40354 21.40060 \n",
       "9  38       Soybeans 2010 48192 145244 33.18003 \n",
       "10 38       Soybeans 2020 43019 145244 29.61844 \n",
       "11 39       Soybeans 2010 22238  65739 33.82771 \n",
       "12 39       Soybeans 2020 19146  65739 29.12426 \n",
       "13 40       Soybeans 2010 40287 108985 36.96564 \n",
       "14 40       Soybeans 2020 41062 108985 37.67674 \n",
       "15 41       Soybeans 2010  8704  40354 21.56911 \n",
       "16 41       Soybeans 2020  6928  40354 17.16806 \n",
       "17 38       Grass    2010 32396 145244 22.30454 \n",
       "18 38       Grass    2020 25490 145244 17.54978 \n",
       "19 39       Grass    2010 13584  65739 20.66353 \n",
       "20 39       Grass    2020 12382  65739 18.83509 \n",
       "21 40       Grass    2010 19865 108985 18.22728 \n",
       "22 40       Grass    2020 16614 108985 15.24430 \n",
       "23 41       Grass    2010 17892  40354 44.33761 \n",
       "24 41       Grass    2020 16703  40354 41.39119 \n",
       "25 38       Other    2010 21846 145244 15.04090 \n",
       "26 38       Other    2020 23184 145244 15.96211 \n",
       "27 39       Other    2010  7172  65739 10.90981 \n",
       "28 39       Other    2020  8141  65739 12.38382 \n",
       "29 40       Other    2010 13298 108985 12.20168 \n",
       "30 40       Other    2020 14117 108985 12.95316 \n",
       "31 41       Other    2010  7155  40354 17.73058 \n",
       "32 41       Other    2020  8087  40354 20.04014 "
      ]
     },
     "metadata": {},
     "output_type": "display_data"
    }
   ],
   "source": [
    "cdlperc <- cdlpivot %>%\n",
    "  group_by(ObjectID, year) %>%\n",
    "  mutate(tot = sum(cnt),\n",
    "         perc_crop = 100 * cnt / tot)\n",
    "cdlperc"
   ]
  },
  {
   "cell_type": "code",
   "execution_count": 25,
   "id": "d93843df",
   "metadata": {},
   "outputs": [],
   "source": [
    "cdlperc <- cdlsum10 %>%\n",
    "  inner_join(cdlsum20,\n",
    "             by = c(\"ObjectID\" = \"ObjectID\",\n",
    "                    \"X2010\" = \"X2020\")) %>%\n",
    "  mutate(croptype = factor(X2010,\n",
    "                           labels = newnames),\n",
    "         ObjectID = as.numeric(ObjectID)) %>%\n",
    "  rename(\"cnt2010\" = \"n.x\",\n",
    "         \"cnt2020\" = \"n.y\") %>%\n",
    "  pivot_longer(cols = starts_with(\"cnt\"),\n",
    "               names_to = \"year\",\n",
    "               values_to = \"cnt\") %>%\n",
    "  mutate(year = parse_number(year)) %>%\n",
    "  group_by(ObjectID, year) %>%\n",
    "  mutate(tot = sum(cnt),\n",
    "         perc_crop = 100 * cnt / tot)"
   ]
  },
  {
   "cell_type": "code",
   "execution_count": 26,
   "id": "36e648c6",
   "metadata": {},
   "outputs": [
    {
     "data": {
      "image/png": "[encoded data removed]",
      "text/plain": [
       "plot without title"
      ]
     },
     "metadata": {
      "image/png": {
       "height": 420,
       "width": 420
      }
     },
     "output_type": "display_data"
    }
   ],
   "source": [
    "subwsh_perc <- left_join(subwsh_ndc, \n",
    "                         cdlperc, \n",
    "                         by = \"ObjectID\")\n",
    "\n",
    "ggplot(data = subwsh_perc) +\n",
    "  geom_sf(aes(fill = perc_crop)) +\n",
    "  scale_fill_distiller(name=\"Percent\", \n",
    "                       palette = \"YlGn\", \n",
    "                       breaks = pretty_breaks(),\n",
    "                       direction = 1) +\n",
    "  facet_wrap(year ~ croptype, \n",
    "             ncol = 4) +\n",
    "  theme_void() +\n",
    "  theme(strip.text.x = element_text(size=12, face=\"bold\"))"
   ]
  },
  {
   "cell_type": "markdown",
   "id": "812e678b",
   "metadata": {},
   "source": [
    "## Summarizing Land Cover With Stream Buffers"
   ]
  },
  {
   "cell_type": "code",
   "execution_count": 27,
   "id": "a971f68d",
   "metadata": {},
   "outputs": [
    {
     "name": "stderr",
     "output_type": "stream",
     "text": [
      "Warning message:\n",
      "\"attribute variables are assumed to be spatially constant throughout all geometries\"\n"
     ]
    },
    {
     "data": {
      "image/png": "[encoded data removed]",
      "text/plain": [
       "plot without title"
      ]
     },
     "metadata": {
      "image/png": {
       "height": 420,
       "width": 420
      }
     },
     "output_type": "display_data"
    }
   ],
   "source": [
    "streams_aea <- st_zm(streams_aea)\n",
    "streams_ndc <- st_intersection(streams_aea, wshed_ndc)\n",
    "\n",
    "ggplot() +\n",
    "  geom_sf(data = subwsh_ndc, \n",
    "          color = \"black\", \n",
    "          size = 1) +\n",
    "  geom_sf(data = streams_ndc, \n",
    "          color = \"blue\") +\n",
    "  theme_void()"
   ]
  },
  {
   "cell_type": "code",
   "execution_count": 28,
   "id": "6cb40043",
   "metadata": {},
   "outputs": [
    {
     "data": {
      "image/png": "[encoded data removed]",
      "text/plain": [
       "plot without title"
      ]
     },
     "metadata": {
      "image/png": {
       "height": 420,
       "width": 420
      }
     },
     "output_type": "display_data"
    }
   ],
   "source": [
    "streams_buff <- st_buffer(streams_ndc, dist = 100)\n",
    "\n",
    "ggplot() +\n",
    "  geom_sf(data = wshed_ndc, \n",
    "          color = \"black\", \n",
    "          size = 1) +\n",
    "  geom_sf(data = streams_buff, \n",
    "          color = \"blue\") +\n",
    "  theme_void()"
   ]
  },
  {
   "cell_type": "code",
   "execution_count": 29,
   "id": "80327941",
   "metadata": {},
   "outputs": [
    {
     "data": {
      "text/html": [
       "<style>\n",
       ".list-inline {list-style: none; margin:0; padding: 0}\n",
       ".list-inline>li {display: inline-block}\n",
       ".list-inline>li:not(:last-child)::after {content: \"\\00b7\"; padding: 0 .5ex}\n",
       "</style>\n",
       "<ol class=list-inline><li>'sfc_MULTIPOLYGON'</li><li>'sfc'</li></ol>\n"
      ],
      "text/latex": [
       "\\begin{enumerate*}\n",
       "\\item 'sfc\\_MULTIPOLYGON'\n",
       "\\item 'sfc'\n",
       "\\end{enumerate*}\n"
      ],
      "text/markdown": [
       "1. 'sfc_MULTIPOLYGON'\n",
       "2. 'sfc'\n",
       "\n",
       "\n"
      ],
      "text/plain": [
       "[1] \"sfc_MULTIPOLYGON\" \"sfc\"             "
      ]
     },
     "metadata": {},
     "output_type": "display_data"
    },
    {
     "data": {
      "text/html": [
       "<style>\n",
       ".list-inline {list-style: none; margin:0; padding: 0}\n",
       ".list-inline>li {display: inline-block}\n",
       ".list-inline>li:not(:last-child)::after {content: \"\\00b7\"; padding: 0 .5ex}\n",
       "</style>\n",
       "<ol class=list-inline><li>'sf'</li><li>'data.frame'</li></ol>\n"
      ],
      "text/latex": [
       "\\begin{enumerate*}\n",
       "\\item 'sf'\n",
       "\\item 'data.frame'\n",
       "\\end{enumerate*}\n"
      ],
      "text/markdown": [
       "1. 'sf'\n",
       "2. 'data.frame'\n",
       "\n",
       "\n"
      ],
      "text/plain": [
       "[1] \"sf\"         \"data.frame\""
      ]
     },
     "metadata": {},
     "output_type": "display_data"
    }
   ],
   "source": [
    "streams_comb <- st_union(streams_buff)\n",
    "class(streams_comb)\n",
    "\n",
    "streams_comb <- st_sf(streams_comb)\n",
    "class(streams_comb)"
   ]
  },
  {
   "cell_type": "code",
   "execution_count": 30,
   "id": "38393b16",
   "metadata": {},
   "outputs": [
    {
     "name": "stderr",
     "output_type": "stream",
     "text": [
      "Warning message:\n",
      "\"attribute variables are assumed to be spatially constant throughout all geometries\"\n",
      "Warning message:\n",
      "\"attribute variables are assumed to be spatially constant throughout all geometries\"\n"
     ]
    }
   ],
   "source": [
    "riparian <- st_intersection(streams_comb, wshed_ndc)\n",
    "upland <- st_difference(wshed_ndc, streams_comb)"
   ]
  },
  {
   "cell_type": "code",
   "execution_count": 31,
   "id": "4c00b9fb",
   "metadata": {},
   "outputs": [
    {
     "name": "stderr",
     "output_type": "stream",
     "text": [
      "Warning message:\n",
      "\"\u001b[1m\u001b[22mRemoved 928876 rows containing missing values (`geom_raster()`).\"\n"
     ]
    },
    {
     "data": {
      "image/png": "[encoded data removed]",
      "text/plain": [
       "plot without title"
      ]
     },
     "metadata": {
      "image/png": {
       "height": 420,
       "width": 420
      }
     },
     "output_type": "display_data"
    }
   ],
   "source": [
    "ggplot(data = cdl_df) + \n",
    "  geom_raster(aes(x = x, \n",
    "                  y = y, \n",
    "                  fill = as.character(value))) + \n",
    "  scale_fill_manual(name = \"Land cover\",\n",
    "                    values = newcols2,\n",
    "                    labels = newnames,\n",
    "                    na.translate = FALSE) +\n",
    "  facet_wrap(facets = vars(variable), ncol = 2) +\n",
    "  geom_sf(data = streams_comb, \n",
    "          color = \"darkblue\", \n",
    "          fill = NA) +\n",
    "  coord_sf(expand = F) +\n",
    "  theme_void() +\n",
    "  theme(strip.text.x = element_text(size=12, face=\"bold\"))"
   ]
  },
  {
   "cell_type": "code",
   "execution_count": 32,
   "id": "0acd31f0",
   "metadata": {},
   "outputs": [],
   "source": [
    "riparian_mask <- rasterize(vect(riparian), cdl_rc)\n",
    "cdl_rip <- mask(cdl_rc, riparian_mask)\n",
    "upland_mask <- rasterize(vect(upland), cdl_rc)\n",
    "cdl_up <- mask(cdl_rc, upland_mask)"
   ]
  },
  {
   "cell_type": "code",
   "execution_count": 33,
   "id": "4785c1e3",
   "metadata": {},
   "outputs": [
    {
     "data": {
      "text/html": [
       "<table class=\"dataframe\">\n",
       "<caption>A tibble: 8 × 3</caption>\n",
       "<thead>\n",
       "\t<tr><th scope=col>layer</th><th scope=col>value</th><th scope=col>count</th></tr>\n",
       "\t<tr><th scope=col>&lt;dbl&gt;</th><th scope=col>&lt;dbl&gt;</th><th scope=col>&lt;dbl&gt;</th></tr>\n",
       "</thead>\n",
       "<tbody>\n",
       "\t<tr><td>1</td><td>1</td><td>26599</td></tr>\n",
       "\t<tr><td>1</td><td>2</td><td>26396</td></tr>\n",
       "\t<tr><td>1</td><td>3</td><td>45230</td></tr>\n",
       "\t<tr><td>1</td><td>4</td><td>12117</td></tr>\n",
       "\t<tr><td>2</td><td>1</td><td>29395</td></tr>\n",
       "\t<tr><td>2</td><td>2</td><td>24737</td></tr>\n",
       "\t<tr><td>2</td><td>3</td><td>40868</td></tr>\n",
       "\t<tr><td>2</td><td>4</td><td>15342</td></tr>\n",
       "</tbody>\n",
       "</table>\n"
      ],
      "text/latex": [
       "A tibble: 8 × 3\n",
       "\\begin{tabular}{lll}\n",
       " layer & value & count\\\\\n",
       " <dbl> & <dbl> & <dbl>\\\\\n",
       "\\hline\n",
       "\t 1 & 1 & 26599\\\\\n",
       "\t 1 & 2 & 26396\\\\\n",
       "\t 1 & 3 & 45230\\\\\n",
       "\t 1 & 4 & 12117\\\\\n",
       "\t 2 & 1 & 29395\\\\\n",
       "\t 2 & 2 & 24737\\\\\n",
       "\t 2 & 3 & 40868\\\\\n",
       "\t 2 & 4 & 15342\\\\\n",
       "\\end{tabular}\n"
      ],
      "text/markdown": [
       "\n",
       "A tibble: 8 × 3\n",
       "\n",
       "| layer &lt;dbl&gt; | value &lt;dbl&gt; | count &lt;dbl&gt; |\n",
       "|---|---|---|\n",
       "| 1 | 1 | 26599 |\n",
       "| 1 | 2 | 26396 |\n",
       "| 1 | 3 | 45230 |\n",
       "| 1 | 4 | 12117 |\n",
       "| 2 | 1 | 29395 |\n",
       "| 2 | 2 | 24737 |\n",
       "| 2 | 3 | 40868 |\n",
       "| 2 | 4 | 15342 |\n",
       "\n"
      ],
      "text/plain": [
       "  layer value count\n",
       "1 1     1     26599\n",
       "2 1     2     26396\n",
       "3 1     3     45230\n",
       "4 1     4     12117\n",
       "5 2     1     29395\n",
       "6 2     2     24737\n",
       "7 2     3     40868\n",
       "8 2     4     15342"
      ]
     },
     "metadata": {},
     "output_type": "display_data"
    }
   ],
   "source": [
    "freq_rip <- as_tibble(freq(cdl_rip))\n",
    "freq_rip"
   ]
  },
  {
   "cell_type": "code",
   "execution_count": 35,
   "id": "e3291dc9",
   "metadata": {},
   "outputs": [
    {
     "data": {
      "text/html": [
       "<table class=\"dataframe\">\n",
       "<caption>A tibble: 8 × 3</caption>\n",
       "<thead>\n",
       "\t<tr><th scope=col>layer</th><th scope=col>value</th><th scope=col>count</th></tr>\n",
       "\t<tr><th scope=col>&lt;dbl&gt;</th><th scope=col>&lt;dbl&gt;</th><th scope=col>&lt;dbl&gt;</th></tr>\n",
       "</thead>\n",
       "<tbody>\n",
       "\t<tr><td>1</td><td>1</td><td>81094</td></tr>\n",
       "\t<tr><td>1</td><td>2</td><td>93025</td></tr>\n",
       "\t<tr><td>1</td><td>3</td><td>38507</td></tr>\n",
       "\t<tr><td>1</td><td>4</td><td>37354</td></tr>\n",
       "\t<tr><td>2</td><td>1</td><td>96054</td></tr>\n",
       "\t<tr><td>2</td><td>2</td><td>85418</td></tr>\n",
       "\t<tr><td>2</td><td>3</td><td>30321</td></tr>\n",
       "\t<tr><td>2</td><td>4</td><td>38187</td></tr>\n",
       "</tbody>\n",
       "</table>\n"
      ],
      "text/latex": [
       "A tibble: 8 × 3\n",
       "\\begin{tabular}{lll}\n",
       " layer & value & count\\\\\n",
       " <dbl> & <dbl> & <dbl>\\\\\n",
       "\\hline\n",
       "\t 1 & 1 & 81094\\\\\n",
       "\t 1 & 2 & 93025\\\\\n",
       "\t 1 & 3 & 38507\\\\\n",
       "\t 1 & 4 & 37354\\\\\n",
       "\t 2 & 1 & 96054\\\\\n",
       "\t 2 & 2 & 85418\\\\\n",
       "\t 2 & 3 & 30321\\\\\n",
       "\t 2 & 4 & 38187\\\\\n",
       "\\end{tabular}\n"
      ],
      "text/markdown": [
       "\n",
       "A tibble: 8 × 3\n",
       "\n",
       "| layer &lt;dbl&gt; | value &lt;dbl&gt; | count &lt;dbl&gt; |\n",
       "|---|---|---|\n",
       "| 1 | 1 | 81094 |\n",
       "| 1 | 2 | 93025 |\n",
       "| 1 | 3 | 38507 |\n",
       "| 1 | 4 | 37354 |\n",
       "| 2 | 1 | 96054 |\n",
       "| 2 | 2 | 85418 |\n",
       "| 2 | 3 | 30321 |\n",
       "| 2 | 4 | 38187 |\n",
       "\n"
      ],
      "text/plain": [
       "  layer value count\n",
       "1 1     1     81094\n",
       "2 1     2     93025\n",
       "3 1     3     38507\n",
       "4 1     4     37354\n",
       "5 2     1     96054\n",
       "6 2     2     85418\n",
       "7 2     3     30321\n",
       "8 2     4     38187"
      ]
     },
     "metadata": {},
     "output_type": "display_data"
    }
   ],
   "source": [
    "freq_up <- as_tibble(freq(cdl_up))\n",
    "freq_up"
   ]
  },
  {
   "cell_type": "code",
   "execution_count": 36,
   "id": "b6e7462d",
   "metadata": {},
   "outputs": [
    {
     "data": {
      "text/html": [
       "<table class=\"dataframe\">\n",
       "<caption>A grouped_df: 16 × 6</caption>\n",
       "<thead>\n",
       "\t<tr><th scope=col>count</th><th scope=col>landtype</th><th scope=col>year</th><th scope=col>croptype</th><th scope=col>totarea</th><th scope=col>percarea</th></tr>\n",
       "\t<tr><th scope=col>&lt;dbl&gt;</th><th scope=col>&lt;chr&gt;</th><th scope=col>&lt;fct&gt;</th><th scope=col>&lt;fct&gt;</th><th scope=col>&lt;dbl&gt;</th><th scope=col>&lt;dbl&gt;</th></tr>\n",
       "</thead>\n",
       "<tbody>\n",
       "\t<tr><td>26599</td><td>Riparian</td><td>2010</td><td>Corn    </td><td>220684</td><td>12.052981</td></tr>\n",
       "\t<tr><td>26396</td><td>Riparian</td><td>2010</td><td>Soybeans</td><td>220684</td><td>11.960994</td></tr>\n",
       "\t<tr><td>45230</td><td>Riparian</td><td>2010</td><td>Grass   </td><td>220684</td><td>20.495369</td></tr>\n",
       "\t<tr><td>12117</td><td>Riparian</td><td>2010</td><td>Other   </td><td>220684</td><td> 5.490656</td></tr>\n",
       "\t<tr><td>29395</td><td>Riparian</td><td>2020</td><td>Corn    </td><td>220684</td><td>13.319951</td></tr>\n",
       "\t<tr><td>24737</td><td>Riparian</td><td>2020</td><td>Soybeans</td><td>220684</td><td>11.209240</td></tr>\n",
       "\t<tr><td>40868</td><td>Riparian</td><td>2020</td><td>Grass   </td><td>220684</td><td>18.518787</td></tr>\n",
       "\t<tr><td>15342</td><td>Riparian</td><td>2020</td><td>Other   </td><td>220684</td><td> 6.952022</td></tr>\n",
       "\t<tr><td>81094</td><td>Upland  </td><td>2010</td><td>Corn    </td><td>499960</td><td>16.220098</td></tr>\n",
       "\t<tr><td>93025</td><td>Upland  </td><td>2010</td><td>Soybeans</td><td>499960</td><td>18.606489</td></tr>\n",
       "\t<tr><td>38507</td><td>Upland  </td><td>2010</td><td>Grass   </td><td>499960</td><td> 7.702016</td></tr>\n",
       "\t<tr><td>37354</td><td>Upland  </td><td>2010</td><td>Other   </td><td>499960</td><td> 7.471398</td></tr>\n",
       "\t<tr><td>96054</td><td>Upland  </td><td>2020</td><td>Corn    </td><td>499960</td><td>19.212337</td></tr>\n",
       "\t<tr><td>85418</td><td>Upland  </td><td>2020</td><td>Soybeans</td><td>499960</td><td>17.084967</td></tr>\n",
       "\t<tr><td>30321</td><td>Upland  </td><td>2020</td><td>Grass   </td><td>499960</td><td> 6.064685</td></tr>\n",
       "\t<tr><td>38187</td><td>Upland  </td><td>2020</td><td>Other   </td><td>499960</td><td> 7.638011</td></tr>\n",
       "</tbody>\n",
       "</table>\n"
      ],
      "text/latex": [
       "A grouped\\_df: 16 × 6\n",
       "\\begin{tabular}{llllll}\n",
       " count & landtype & year & croptype & totarea & percarea\\\\\n",
       " <dbl> & <chr> & <fct> & <fct> & <dbl> & <dbl>\\\\\n",
       "\\hline\n",
       "\t 26599 & Riparian & 2010 & Corn     & 220684 & 12.052981\\\\\n",
       "\t 26396 & Riparian & 2010 & Soybeans & 220684 & 11.960994\\\\\n",
       "\t 45230 & Riparian & 2010 & Grass    & 220684 & 20.495369\\\\\n",
       "\t 12117 & Riparian & 2010 & Other    & 220684 &  5.490656\\\\\n",
       "\t 29395 & Riparian & 2020 & Corn     & 220684 & 13.319951\\\\\n",
       "\t 24737 & Riparian & 2020 & Soybeans & 220684 & 11.209240\\\\\n",
       "\t 40868 & Riparian & 2020 & Grass    & 220684 & 18.518787\\\\\n",
       "\t 15342 & Riparian & 2020 & Other    & 220684 &  6.952022\\\\\n",
       "\t 81094 & Upland   & 2010 & Corn     & 499960 & 16.220098\\\\\n",
       "\t 93025 & Upland   & 2010 & Soybeans & 499960 & 18.606489\\\\\n",
       "\t 38507 & Upland   & 2010 & Grass    & 499960 &  7.702016\\\\\n",
       "\t 37354 & Upland   & 2010 & Other    & 499960 &  7.471398\\\\\n",
       "\t 96054 & Upland   & 2020 & Corn     & 499960 & 19.212337\\\\\n",
       "\t 85418 & Upland   & 2020 & Soybeans & 499960 & 17.084967\\\\\n",
       "\t 30321 & Upland   & 2020 & Grass    & 499960 &  6.064685\\\\\n",
       "\t 38187 & Upland   & 2020 & Other    & 499960 &  7.638011\\\\\n",
       "\\end{tabular}\n"
      ],
      "text/markdown": [
       "\n",
       "A grouped_df: 16 × 6\n",
       "\n",
       "| count &lt;dbl&gt; | landtype &lt;chr&gt; | year &lt;fct&gt; | croptype &lt;fct&gt; | totarea &lt;dbl&gt; | percarea &lt;dbl&gt; |\n",
       "|---|---|---|---|---|---|\n",
       "| 26599 | Riparian | 2010 | Corn     | 220684 | 12.052981 |\n",
       "| 26396 | Riparian | 2010 | Soybeans | 220684 | 11.960994 |\n",
       "| 45230 | Riparian | 2010 | Grass    | 220684 | 20.495369 |\n",
       "| 12117 | Riparian | 2010 | Other    | 220684 |  5.490656 |\n",
       "| 29395 | Riparian | 2020 | Corn     | 220684 | 13.319951 |\n",
       "| 24737 | Riparian | 2020 | Soybeans | 220684 | 11.209240 |\n",
       "| 40868 | Riparian | 2020 | Grass    | 220684 | 18.518787 |\n",
       "| 15342 | Riparian | 2020 | Other    | 220684 |  6.952022 |\n",
       "| 81094 | Upland   | 2010 | Corn     | 499960 | 16.220098 |\n",
       "| 93025 | Upland   | 2010 | Soybeans | 499960 | 18.606489 |\n",
       "| 38507 | Upland   | 2010 | Grass    | 499960 |  7.702016 |\n",
       "| 37354 | Upland   | 2010 | Other    | 499960 |  7.471398 |\n",
       "| 96054 | Upland   | 2020 | Corn     | 499960 | 19.212337 |\n",
       "| 85418 | Upland   | 2020 | Soybeans | 499960 | 17.084967 |\n",
       "| 30321 | Upland   | 2020 | Grass    | 499960 |  6.064685 |\n",
       "| 38187 | Upland   | 2020 | Other    | 499960 |  7.638011 |\n",
       "\n"
      ],
      "text/plain": [
       "   count landtype year croptype totarea percarea \n",
       "1  26599 Riparian 2010 Corn     220684  12.052981\n",
       "2  26396 Riparian 2010 Soybeans 220684  11.960994\n",
       "3  45230 Riparian 2010 Grass    220684  20.495369\n",
       "4  12117 Riparian 2010 Other    220684   5.490656\n",
       "5  29395 Riparian 2020 Corn     220684  13.319951\n",
       "6  24737 Riparian 2020 Soybeans 220684  11.209240\n",
       "7  40868 Riparian 2020 Grass    220684  18.518787\n",
       "8  15342 Riparian 2020 Other    220684   6.952022\n",
       "9  81094 Upland   2010 Corn     499960  16.220098\n",
       "10 93025 Upland   2010 Soybeans 499960  18.606489\n",
       "11 38507 Upland   2010 Grass    499960   7.702016\n",
       "12 37354 Upland   2010 Other    499960   7.471398\n",
       "13 96054 Upland   2020 Corn     499960  19.212337\n",
       "14 85418 Upland   2020 Soybeans 499960  17.084967\n",
       "15 30321 Upland   2020 Grass    499960   6.064685\n",
       "16 38187 Upland   2020 Other    499960   7.638011"
      ]
     },
     "metadata": {},
     "output_type": "display_data"
    }
   ],
   "source": [
    "cdl_chng <- freq_rip %>%\n",
    "  bind_rows(freq_up) %>%\n",
    "  mutate(landtype = c(rep(\"Riparian\", 8), rep(\"Upland\", 8)),\n",
    "         year = factor(layer,\n",
    "                       labels = c(\"2010\", \"2020\")),\n",
    "         croptype = factor(value,\n",
    "                           labels = newnames)) %>%\n",
    "  select(-layer, -value) %>%\n",
    "  group_by(landtype) %>%\n",
    "  mutate(totarea = sum(count),\n",
    "         percarea = 100 * count / totarea)\n",
    "cdl_chng"
   ]
  },
  {
   "cell_type": "code",
   "execution_count": 37,
   "id": "e687c0a8",
   "metadata": {},
   "outputs": [
    {
     "data": {
      "image/png": "[encoded data removed]",
      "text/plain": [
       "plot without title"
      ]
     },
     "metadata": {
      "image/png": {
       "height": 420,
       "width": 420
      }
     },
     "output_type": "display_data"
    }
   ],
   "source": [
    "ggplot(data = cdl_chng) +\n",
    "  geom_bar(aes(y = percarea, \n",
    "               x = year, \n",
    "               fill = croptype),\n",
    "           color = \"black\",\n",
    "           position = \"dodge\",\n",
    "           stat = \"identity\")  +\n",
    "  scale_fill_manual(name = \"Land Cover\", \n",
    "                    values = newcols) +\n",
    "  facet_wrap(facets = vars(landtype), \n",
    "             ncol = 2) +\n",
    "  labs(x = \"Landscape Zone\", \n",
    "       y = \"% Area\") +\n",
    "  theme_bw()"
   ]
  },
  {
   "cell_type": "markdown",
   "id": "76a59736",
   "metadata": {},
   "source": [
    "## Summarizing Land Cover With Point Buffers"
   ]
  },
  {
   "cell_type": "code",
   "execution_count": 38,
   "id": "da96c00e",
   "metadata": {},
   "outputs": [
    {
     "data": {
      "text/html": [
       "<style>\n",
       ".list-inline {list-style: none; margin:0; padding: 0}\n",
       ".list-inline>li {display: inline-block}\n",
       ".list-inline>li:not(:last-child)::after {content: \"\\00b7\"; padding: 0 .5ex}\n",
       "</style>\n",
       "<ol class=list-inline><li>'sfc_POINT'</li><li>'sfc'</li></ol>\n"
      ],
      "text/latex": [
       "\\begin{enumerate*}\n",
       "\\item 'sfc\\_POINT'\n",
       "\\item 'sfc'\n",
       "\\end{enumerate*}\n"
      ],
      "text/markdown": [
       "1. 'sfc_POINT'\n",
       "2. 'sfc'\n",
       "\n",
       "\n"
      ],
      "text/plain": [
       "[1] \"sfc_POINT\" \"sfc\"      "
      ]
     },
     "metadata": {},
     "output_type": "display_data"
    },
    {
     "data": {
      "text/html": [
       "<style>\n",
       ".list-inline {list-style: none; margin:0; padding: 0}\n",
       ".list-inline>li {display: inline-block}\n",
       ".list-inline>li:not(:last-child)::after {content: \"\\00b7\"; padding: 0 .5ex}\n",
       "</style>\n",
       "<ol class=list-inline><li>'sf'</li><li>'data.frame'</li></ol>\n"
      ],
      "text/latex": [
       "\\begin{enumerate*}\n",
       "\\item 'sf'\n",
       "\\item 'data.frame'\n",
       "\\end{enumerate*}\n"
      ],
      "text/markdown": [
       "1. 'sf'\n",
       "2. 'data.frame'\n",
       "\n",
       "\n"
      ],
      "text/plain": [
       "[1] \"sf\"         \"data.frame\""
      ]
     },
     "metadata": {},
     "output_type": "display_data"
    }
   ],
   "source": [
    "set.seed(32145)\n",
    "plots <- st_sample(wshed_ndc, size = 20)\n",
    "class(plots)\n",
    "\n",
    "\n",
    "plots <- st_as_sf(plots)\n",
    "class(plots)"
   ]
  },
  {
   "cell_type": "code",
   "execution_count": 39,
   "id": "4c84015a",
   "metadata": {},
   "outputs": [
    {
     "name": "stderr",
     "output_type": "stream",
     "text": [
      "Warning message:\n",
      "\"\u001b[1m\u001b[22mRemoved 928876 rows containing missing values (`geom_raster()`).\"\n"
     ]
    },
    {
     "data": {
      "image/png": "[encoded data removed]",
      "text/plain": [
       "plot without title"
      ]
     },
     "metadata": {
      "image/png": {
       "height": 420,
       "width": 420
      }
     },
     "output_type": "display_data"
    }
   ],
   "source": [
    "ggplot(data = cdl_df) + \n",
    "  geom_raster(aes(x = x, y = y, fill = as.character(value))) + \n",
    "  scale_fill_manual(name = \"Land cover\",\n",
    "                    values = newcols2,\n",
    "                    labels = newnames,\n",
    "                    na.translate = FALSE) +\n",
    "  geom_sf(data = plots, fill = NA) +\n",
    "  facet_wrap(facets = vars(variable)) +\n",
    "  coord_sf(expand = F) +\n",
    "  theme_void() +\n",
    "  theme(strip.text.x = element_text(size=12, face=\"bold\"))"
   ]
  },
  {
   "cell_type": "code",
   "execution_count": 40,
   "id": "ad21b421",
   "metadata": {},
   "outputs": [
    {
     "data": {
      "text/html": [
       "POINT\n",
       "<details>\n",
       "\t<summary style=display:list-item;cursor:pointer>\n",
       "\t\t<strong>Levels</strong>:\n",
       "\t</summary>\n",
       "\t<style>\n",
       "\t.list-inline {list-style: none; margin:0; padding: 0}\n",
       "\t.list-inline>li {display: inline-block}\n",
       "\t.list-inline>li:not(:last-child)::after {content: \"\\00b7\"; padding: 0 .5ex}\n",
       "\t</style>\n",
       "\t<ol class=list-inline><li>'GEOMETRY'</li><li>'POINT'</li><li>'LINESTRING'</li><li>'POLYGON'</li><li>'MULTIPOINT'</li><li>'MULTILINESTRING'</li><li>'MULTIPOLYGON'</li><li>'GEOMETRYCOLLECTION'</li><li>'CIRCULARSTRING'</li><li>'COMPOUNDCURVE'</li><li>'CURVEPOLYGON'</li><li>'MULTICURVE'</li><li>'MULTISURFACE'</li><li>'CURVE'</li><li>'SURFACE'</li><li>'POLYHEDRALSURFACE'</li><li>'TIN'</li><li>'TRIANGLE'</li></ol>\n",
       "</details>"
      ],
      "text/latex": [
       "POINT\n",
       "\\emph{Levels}: \\begin{enumerate*}\n",
       "\\item 'GEOMETRY'\n",
       "\\item 'POINT'\n",
       "\\item 'LINESTRING'\n",
       "\\item 'POLYGON'\n",
       "\\item 'MULTIPOINT'\n",
       "\\item 'MULTILINESTRING'\n",
       "\\item 'MULTIPOLYGON'\n",
       "\\item 'GEOMETRYCOLLECTION'\n",
       "\\item 'CIRCULARSTRING'\n",
       "\\item 'COMPOUNDCURVE'\n",
       "\\item 'CURVEPOLYGON'\n",
       "\\item 'MULTICURVE'\n",
       "\\item 'MULTISURFACE'\n",
       "\\item 'CURVE'\n",
       "\\item 'SURFACE'\n",
       "\\item 'POLYHEDRALSURFACE'\n",
       "\\item 'TIN'\n",
       "\\item 'TRIANGLE'\n",
       "\\end{enumerate*}\n"
      ],
      "text/markdown": [
       "POINT\n",
       "**Levels**: 1. 'GEOMETRY'\n",
       "2. 'POINT'\n",
       "3. 'LINESTRING'\n",
       "4. 'POLYGON'\n",
       "5. 'MULTIPOINT'\n",
       "6. 'MULTILINESTRING'\n",
       "7. 'MULTIPOLYGON'\n",
       "8. 'GEOMETRYCOLLECTION'\n",
       "9. 'CIRCULARSTRING'\n",
       "10. 'COMPOUNDCURVE'\n",
       "11. 'CURVEPOLYGON'\n",
       "12. 'MULTICURVE'\n",
       "13. 'MULTISURFACE'\n",
       "14. 'CURVE'\n",
       "15. 'SURFACE'\n",
       "16. 'POLYHEDRALSURFACE'\n",
       "17. 'TIN'\n",
       "18. 'TRIANGLE'\n",
       "\n",
       "\n"
      ],
      "text/plain": [
       "[1] POINT\n",
       "18 Levels: GEOMETRY POINT LINESTRING POLYGON MULTIPOINT ... TRIANGLE"
      ]
     },
     "metadata": {},
     "output_type": "display_data"
    },
    {
     "data": {
      "text/html": [
       "POLYGON\n",
       "<details>\n",
       "\t<summary style=display:list-item;cursor:pointer>\n",
       "\t\t<strong>Levels</strong>:\n",
       "\t</summary>\n",
       "\t<style>\n",
       "\t.list-inline {list-style: none; margin:0; padding: 0}\n",
       "\t.list-inline>li {display: inline-block}\n",
       "\t.list-inline>li:not(:last-child)::after {content: \"\\00b7\"; padding: 0 .5ex}\n",
       "\t</style>\n",
       "\t<ol class=list-inline><li>'GEOMETRY'</li><li>'POINT'</li><li>'LINESTRING'</li><li>'POLYGON'</li><li>'MULTIPOINT'</li><li>'MULTILINESTRING'</li><li>'MULTIPOLYGON'</li><li>'GEOMETRYCOLLECTION'</li><li>'CIRCULARSTRING'</li><li>'COMPOUNDCURVE'</li><li>'CURVEPOLYGON'</li><li>'MULTICURVE'</li><li>'MULTISURFACE'</li><li>'CURVE'</li><li>'SURFACE'</li><li>'POLYHEDRALSURFACE'</li><li>'TIN'</li><li>'TRIANGLE'</li></ol>\n",
       "</details>"
      ],
      "text/latex": [
       "POLYGON\n",
       "\\emph{Levels}: \\begin{enumerate*}\n",
       "\\item 'GEOMETRY'\n",
       "\\item 'POINT'\n",
       "\\item 'LINESTRING'\n",
       "\\item 'POLYGON'\n",
       "\\item 'MULTIPOINT'\n",
       "\\item 'MULTILINESTRING'\n",
       "\\item 'MULTIPOLYGON'\n",
       "\\item 'GEOMETRYCOLLECTION'\n",
       "\\item 'CIRCULARSTRING'\n",
       "\\item 'COMPOUNDCURVE'\n",
       "\\item 'CURVEPOLYGON'\n",
       "\\item 'MULTICURVE'\n",
       "\\item 'MULTISURFACE'\n",
       "\\item 'CURVE'\n",
       "\\item 'SURFACE'\n",
       "\\item 'POLYHEDRALSURFACE'\n",
       "\\item 'TIN'\n",
       "\\item 'TRIANGLE'\n",
       "\\end{enumerate*}\n"
      ],
      "text/markdown": [
       "POLYGON\n",
       "**Levels**: 1. 'GEOMETRY'\n",
       "2. 'POINT'\n",
       "3. 'LINESTRING'\n",
       "4. 'POLYGON'\n",
       "5. 'MULTIPOINT'\n",
       "6. 'MULTILINESTRING'\n",
       "7. 'MULTIPOLYGON'\n",
       "8. 'GEOMETRYCOLLECTION'\n",
       "9. 'CIRCULARSTRING'\n",
       "10. 'COMPOUNDCURVE'\n",
       "11. 'CURVEPOLYGON'\n",
       "12. 'MULTICURVE'\n",
       "13. 'MULTISURFACE'\n",
       "14. 'CURVE'\n",
       "15. 'SURFACE'\n",
       "16. 'POLYHEDRALSURFACE'\n",
       "17. 'TIN'\n",
       "18. 'TRIANGLE'\n",
       "\n",
       "\n"
      ],
      "text/plain": [
       "[1] POLYGON\n",
       "18 Levels: GEOMETRY POINT LINESTRING POLYGON MULTIPOINT ... TRIANGLE"
      ]
     },
     "metadata": {},
     "output_type": "display_data"
    }
   ],
   "source": [
    "st_geometry_type(plots, by_geometry = FALSE)\n",
    "\n",
    "plot_poly <- st_buffer(plots, dist = 200)\n",
    "st_geometry_type(plot_poly, by_geometry = FALSE)"
   ]
  },
  {
   "cell_type": "code",
   "execution_count": 41,
   "id": "4c2f3f64",
   "metadata": {},
   "outputs": [],
   "source": [
    "cdl_stk <- segregate(cdl_rc[[\"2020\"]])\n",
    "names(cdl_stk) <- newnames\n",
    "\n",
    "plots_cdl <- extract(cdl_stk,\n",
    "                    vect(plot_poly ), \n",
    "                    fun = mean, \n",
    "                    na.rm = T)"
   ]
  },
  {
   "cell_type": "code",
   "execution_count": 42,
   "id": "811e4413",
   "metadata": {},
   "outputs": [
    {
     "data": {
      "text/html": [
       "<table class=\"dataframe\">\n",
       "<caption>A data.frame: 20 × 5</caption>\n",
       "<thead>\n",
       "\t<tr><th scope=col>ID</th><th scope=col>Corn</th><th scope=col>Soybeans</th><th scope=col>Grass</th><th scope=col>Other</th></tr>\n",
       "\t<tr><th scope=col>&lt;int&gt;</th><th scope=col>&lt;dbl&gt;</th><th scope=col>&lt;dbl&gt;</th><th scope=col>&lt;dbl&gt;</th><th scope=col>&lt;dbl&gt;</th></tr>\n",
       "</thead>\n",
       "<tbody>\n",
       "\t<tr><td> 1</td><td>1.000000000</td><td>0.00000000</td><td>0.00000000</td><td>0.000000000</td></tr>\n",
       "\t<tr><td> 2</td><td>0.000000000</td><td>1.00000000</td><td>0.00000000</td><td>0.000000000</td></tr>\n",
       "\t<tr><td> 3</td><td>0.582733813</td><td>0.00000000</td><td>0.10791367</td><td>0.309352518</td></tr>\n",
       "\t<tr><td> 4</td><td>0.425531915</td><td>0.04255319</td><td>0.31914894</td><td>0.212765957</td></tr>\n",
       "\t<tr><td> 5</td><td>0.028571429</td><td>0.52142857</td><td>0.43571429</td><td>0.014285714</td></tr>\n",
       "\t<tr><td> 6</td><td>0.042857143</td><td>0.81428571</td><td>0.04285714</td><td>0.100000000</td></tr>\n",
       "\t<tr><td> 7</td><td>0.944055944</td><td>0.00000000</td><td>0.02797203</td><td>0.027972028</td></tr>\n",
       "\t<tr><td> 8</td><td>0.021276596</td><td>0.68085106</td><td>0.18439716</td><td>0.113475177</td></tr>\n",
       "\t<tr><td> 9</td><td>0.728571429</td><td>0.23571429</td><td>0.00000000</td><td>0.035714286</td></tr>\n",
       "\t<tr><td>10</td><td>0.000000000</td><td>0.00000000</td><td>0.44927536</td><td>0.550724638</td></tr>\n",
       "\t<tr><td>11</td><td>0.228571429</td><td>0.01428571</td><td>0.75000000</td><td>0.007142857</td></tr>\n",
       "\t<tr><td>12</td><td>0.007142857</td><td>0.00000000</td><td>0.00000000</td><td>0.992857143</td></tr>\n",
       "\t<tr><td>13</td><td>0.223076923</td><td>0.13076923</td><td>0.50000000</td><td>0.146153846</td></tr>\n",
       "\t<tr><td>14</td><td>0.453237410</td><td>0.29496403</td><td>0.03597122</td><td>0.215827338</td></tr>\n",
       "\t<tr><td>15</td><td>0.214285714</td><td>0.30000000</td><td>0.47142857</td><td>0.014285714</td></tr>\n",
       "\t<tr><td>16</td><td>0.014285714</td><td>0.92857143</td><td>0.00000000</td><td>0.057142857</td></tr>\n",
       "\t<tr><td>17</td><td>0.471014493</td><td>0.03623188</td><td>0.31159420</td><td>0.181159420</td></tr>\n",
       "\t<tr><td>18</td><td>0.000000000</td><td>1.00000000</td><td>0.00000000</td><td>0.000000000</td></tr>\n",
       "\t<tr><td>19</td><td>0.000000000</td><td>0.90647482</td><td>0.00000000</td><td>0.093525180</td></tr>\n",
       "\t<tr><td>20</td><td>0.421428571</td><td>0.08571429</td><td>0.28571429</td><td>0.207142857</td></tr>\n",
       "</tbody>\n",
       "</table>\n"
      ],
      "text/latex": [
       "A data.frame: 20 × 5\n",
       "\\begin{tabular}{lllll}\n",
       " ID & Corn & Soybeans & Grass & Other\\\\\n",
       " <int> & <dbl> & <dbl> & <dbl> & <dbl>\\\\\n",
       "\\hline\n",
       "\t  1 & 1.000000000 & 0.00000000 & 0.00000000 & 0.000000000\\\\\n",
       "\t  2 & 0.000000000 & 1.00000000 & 0.00000000 & 0.000000000\\\\\n",
       "\t  3 & 0.582733813 & 0.00000000 & 0.10791367 & 0.309352518\\\\\n",
       "\t  4 & 0.425531915 & 0.04255319 & 0.31914894 & 0.212765957\\\\\n",
       "\t  5 & 0.028571429 & 0.52142857 & 0.43571429 & 0.014285714\\\\\n",
       "\t  6 & 0.042857143 & 0.81428571 & 0.04285714 & 0.100000000\\\\\n",
       "\t  7 & 0.944055944 & 0.00000000 & 0.02797203 & 0.027972028\\\\\n",
       "\t  8 & 0.021276596 & 0.68085106 & 0.18439716 & 0.113475177\\\\\n",
       "\t  9 & 0.728571429 & 0.23571429 & 0.00000000 & 0.035714286\\\\\n",
       "\t 10 & 0.000000000 & 0.00000000 & 0.44927536 & 0.550724638\\\\\n",
       "\t 11 & 0.228571429 & 0.01428571 & 0.75000000 & 0.007142857\\\\\n",
       "\t 12 & 0.007142857 & 0.00000000 & 0.00000000 & 0.992857143\\\\\n",
       "\t 13 & 0.223076923 & 0.13076923 & 0.50000000 & 0.146153846\\\\\n",
       "\t 14 & 0.453237410 & 0.29496403 & 0.03597122 & 0.215827338\\\\\n",
       "\t 15 & 0.214285714 & 0.30000000 & 0.47142857 & 0.014285714\\\\\n",
       "\t 16 & 0.014285714 & 0.92857143 & 0.00000000 & 0.057142857\\\\\n",
       "\t 17 & 0.471014493 & 0.03623188 & 0.31159420 & 0.181159420\\\\\n",
       "\t 18 & 0.000000000 & 1.00000000 & 0.00000000 & 0.000000000\\\\\n",
       "\t 19 & 0.000000000 & 0.90647482 & 0.00000000 & 0.093525180\\\\\n",
       "\t 20 & 0.421428571 & 0.08571429 & 0.28571429 & 0.207142857\\\\\n",
       "\\end{tabular}\n"
      ],
      "text/markdown": [
       "\n",
       "A data.frame: 20 × 5\n",
       "\n",
       "| ID &lt;int&gt; | Corn &lt;dbl&gt; | Soybeans &lt;dbl&gt; | Grass &lt;dbl&gt; | Other &lt;dbl&gt; |\n",
       "|---|---|---|---|---|\n",
       "|  1 | 1.000000000 | 0.00000000 | 0.00000000 | 0.000000000 |\n",
       "|  2 | 0.000000000 | 1.00000000 | 0.00000000 | 0.000000000 |\n",
       "|  3 | 0.582733813 | 0.00000000 | 0.10791367 | 0.309352518 |\n",
       "|  4 | 0.425531915 | 0.04255319 | 0.31914894 | 0.212765957 |\n",
       "|  5 | 0.028571429 | 0.52142857 | 0.43571429 | 0.014285714 |\n",
       "|  6 | 0.042857143 | 0.81428571 | 0.04285714 | 0.100000000 |\n",
       "|  7 | 0.944055944 | 0.00000000 | 0.02797203 | 0.027972028 |\n",
       "|  8 | 0.021276596 | 0.68085106 | 0.18439716 | 0.113475177 |\n",
       "|  9 | 0.728571429 | 0.23571429 | 0.00000000 | 0.035714286 |\n",
       "| 10 | 0.000000000 | 0.00000000 | 0.44927536 | 0.550724638 |\n",
       "| 11 | 0.228571429 | 0.01428571 | 0.75000000 | 0.007142857 |\n",
       "| 12 | 0.007142857 | 0.00000000 | 0.00000000 | 0.992857143 |\n",
       "| 13 | 0.223076923 | 0.13076923 | 0.50000000 | 0.146153846 |\n",
       "| 14 | 0.453237410 | 0.29496403 | 0.03597122 | 0.215827338 |\n",
       "| 15 | 0.214285714 | 0.30000000 | 0.47142857 | 0.014285714 |\n",
       "| 16 | 0.014285714 | 0.92857143 | 0.00000000 | 0.057142857 |\n",
       "| 17 | 0.471014493 | 0.03623188 | 0.31159420 | 0.181159420 |\n",
       "| 18 | 0.000000000 | 1.00000000 | 0.00000000 | 0.000000000 |\n",
       "| 19 | 0.000000000 | 0.90647482 | 0.00000000 | 0.093525180 |\n",
       "| 20 | 0.421428571 | 0.08571429 | 0.28571429 | 0.207142857 |\n",
       "\n"
      ],
      "text/plain": [
       "   ID Corn        Soybeans   Grass      Other      \n",
       "1   1 1.000000000 0.00000000 0.00000000 0.000000000\n",
       "2   2 0.000000000 1.00000000 0.00000000 0.000000000\n",
       "3   3 0.582733813 0.00000000 0.10791367 0.309352518\n",
       "4   4 0.425531915 0.04255319 0.31914894 0.212765957\n",
       "5   5 0.028571429 0.52142857 0.43571429 0.014285714\n",
       "6   6 0.042857143 0.81428571 0.04285714 0.100000000\n",
       "7   7 0.944055944 0.00000000 0.02797203 0.027972028\n",
       "8   8 0.021276596 0.68085106 0.18439716 0.113475177\n",
       "9   9 0.728571429 0.23571429 0.00000000 0.035714286\n",
       "10 10 0.000000000 0.00000000 0.44927536 0.550724638\n",
       "11 11 0.228571429 0.01428571 0.75000000 0.007142857\n",
       "12 12 0.007142857 0.00000000 0.00000000 0.992857143\n",
       "13 13 0.223076923 0.13076923 0.50000000 0.146153846\n",
       "14 14 0.453237410 0.29496403 0.03597122 0.215827338\n",
       "15 15 0.214285714 0.30000000 0.47142857 0.014285714\n",
       "16 16 0.014285714 0.92857143 0.00000000 0.057142857\n",
       "17 17 0.471014493 0.03623188 0.31159420 0.181159420\n",
       "18 18 0.000000000 1.00000000 0.00000000 0.000000000\n",
       "19 19 0.000000000 0.90647482 0.00000000 0.093525180\n",
       "20 20 0.421428571 0.08571429 0.28571429 0.207142857"
      ]
     },
     "metadata": {},
     "output_type": "display_data"
    }
   ],
   "source": [
    "plots_cdl"
   ]
  },
  {
   "cell_type": "code",
   "execution_count": 43,
   "id": "afe26a4b",
   "metadata": {},
   "outputs": [
    {
     "data": {
      "text/html": [
       "<table class=\"dataframe\">\n",
       "<caption>A tibble: 80 × 3</caption>\n",
       "<thead>\n",
       "\t<tr><th scope=col>ID</th><th scope=col>croptype</th><th scope=col>percarea</th></tr>\n",
       "\t<tr><th scope=col>&lt;int&gt;</th><th scope=col>&lt;chr&gt;</th><th scope=col>&lt;dbl&gt;</th></tr>\n",
       "</thead>\n",
       "<tbody>\n",
       "\t<tr><td>1</td><td>Corn    </td><td>1.00000000</td></tr>\n",
       "\t<tr><td>1</td><td>Soybeans</td><td>0.00000000</td></tr>\n",
       "\t<tr><td>1</td><td>Grass   </td><td>0.00000000</td></tr>\n",
       "\t<tr><td>1</td><td>Other   </td><td>0.00000000</td></tr>\n",
       "\t<tr><td>2</td><td>Corn    </td><td>0.00000000</td></tr>\n",
       "\t<tr><td>2</td><td>Soybeans</td><td>1.00000000</td></tr>\n",
       "\t<tr><td>2</td><td>Grass   </td><td>0.00000000</td></tr>\n",
       "\t<tr><td>2</td><td>Other   </td><td>0.00000000</td></tr>\n",
       "\t<tr><td>3</td><td>Corn    </td><td>0.58273381</td></tr>\n",
       "\t<tr><td>3</td><td>Soybeans</td><td>0.00000000</td></tr>\n",
       "\t<tr><td>3</td><td>Grass   </td><td>0.10791367</td></tr>\n",
       "\t<tr><td>3</td><td>Other   </td><td>0.30935252</td></tr>\n",
       "\t<tr><td>4</td><td>Corn    </td><td>0.42553191</td></tr>\n",
       "\t<tr><td>4</td><td>Soybeans</td><td>0.04255319</td></tr>\n",
       "\t<tr><td>4</td><td>Grass   </td><td>0.31914894</td></tr>\n",
       "\t<tr><td>4</td><td>Other   </td><td>0.21276596</td></tr>\n",
       "\t<tr><td>5</td><td>Corn    </td><td>0.02857143</td></tr>\n",
       "\t<tr><td>5</td><td>Soybeans</td><td>0.52142857</td></tr>\n",
       "\t<tr><td>5</td><td>Grass   </td><td>0.43571429</td></tr>\n",
       "\t<tr><td>5</td><td>Other   </td><td>0.01428571</td></tr>\n",
       "\t<tr><td>6</td><td>Corn    </td><td>0.04285714</td></tr>\n",
       "\t<tr><td>6</td><td>Soybeans</td><td>0.81428571</td></tr>\n",
       "\t<tr><td>6</td><td>Grass   </td><td>0.04285714</td></tr>\n",
       "\t<tr><td>6</td><td>Other   </td><td>0.10000000</td></tr>\n",
       "\t<tr><td>7</td><td>Corn    </td><td>0.94405594</td></tr>\n",
       "\t<tr><td>7</td><td>Soybeans</td><td>0.00000000</td></tr>\n",
       "\t<tr><td>7</td><td>Grass   </td><td>0.02797203</td></tr>\n",
       "\t<tr><td>7</td><td>Other   </td><td>0.02797203</td></tr>\n",
       "\t<tr><td>8</td><td>Corn    </td><td>0.02127660</td></tr>\n",
       "\t<tr><td>8</td><td>Soybeans</td><td>0.68085106</td></tr>\n",
       "\t<tr><td>...</td><td>...</td><td>...</td></tr>\n",
       "\t<tr><td>13</td><td>Grass   </td><td>0.50000000</td></tr>\n",
       "\t<tr><td>13</td><td>Other   </td><td>0.14615385</td></tr>\n",
       "\t<tr><td>14</td><td>Corn    </td><td>0.45323741</td></tr>\n",
       "\t<tr><td>14</td><td>Soybeans</td><td>0.29496403</td></tr>\n",
       "\t<tr><td>14</td><td>Grass   </td><td>0.03597122</td></tr>\n",
       "\t<tr><td>14</td><td>Other   </td><td>0.21582734</td></tr>\n",
       "\t<tr><td>15</td><td>Corn    </td><td>0.21428571</td></tr>\n",
       "\t<tr><td>15</td><td>Soybeans</td><td>0.30000000</td></tr>\n",
       "\t<tr><td>15</td><td>Grass   </td><td>0.47142857</td></tr>\n",
       "\t<tr><td>15</td><td>Other   </td><td>0.01428571</td></tr>\n",
       "\t<tr><td>16</td><td>Corn    </td><td>0.01428571</td></tr>\n",
       "\t<tr><td>16</td><td>Soybeans</td><td>0.92857143</td></tr>\n",
       "\t<tr><td>16</td><td>Grass   </td><td>0.00000000</td></tr>\n",
       "\t<tr><td>16</td><td>Other   </td><td>0.05714286</td></tr>\n",
       "\t<tr><td>17</td><td>Corn    </td><td>0.47101449</td></tr>\n",
       "\t<tr><td>17</td><td>Soybeans</td><td>0.03623188</td></tr>\n",
       "\t<tr><td>17</td><td>Grass   </td><td>0.31159420</td></tr>\n",
       "\t<tr><td>17</td><td>Other   </td><td>0.18115942</td></tr>\n",
       "\t<tr><td>18</td><td>Corn    </td><td>0.00000000</td></tr>\n",
       "\t<tr><td>18</td><td>Soybeans</td><td>1.00000000</td></tr>\n",
       "\t<tr><td>18</td><td>Grass   </td><td>0.00000000</td></tr>\n",
       "\t<tr><td>18</td><td>Other   </td><td>0.00000000</td></tr>\n",
       "\t<tr><td>19</td><td>Corn    </td><td>0.00000000</td></tr>\n",
       "\t<tr><td>19</td><td>Soybeans</td><td>0.90647482</td></tr>\n",
       "\t<tr><td>19</td><td>Grass   </td><td>0.00000000</td></tr>\n",
       "\t<tr><td>19</td><td>Other   </td><td>0.09352518</td></tr>\n",
       "\t<tr><td>20</td><td>Corn    </td><td>0.42142857</td></tr>\n",
       "\t<tr><td>20</td><td>Soybeans</td><td>0.08571429</td></tr>\n",
       "\t<tr><td>20</td><td>Grass   </td><td>0.28571429</td></tr>\n",
       "\t<tr><td>20</td><td>Other   </td><td>0.20714286</td></tr>\n",
       "</tbody>\n",
       "</table>\n"
      ],
      "text/latex": [
       "A tibble: 80 × 3\n",
       "\\begin{tabular}{lll}\n",
       " ID & croptype & percarea\\\\\n",
       " <int> & <chr> & <dbl>\\\\\n",
       "\\hline\n",
       "\t 1 & Corn     & 1.00000000\\\\\n",
       "\t 1 & Soybeans & 0.00000000\\\\\n",
       "\t 1 & Grass    & 0.00000000\\\\\n",
       "\t 1 & Other    & 0.00000000\\\\\n",
       "\t 2 & Corn     & 0.00000000\\\\\n",
       "\t 2 & Soybeans & 1.00000000\\\\\n",
       "\t 2 & Grass    & 0.00000000\\\\\n",
       "\t 2 & Other    & 0.00000000\\\\\n",
       "\t 3 & Corn     & 0.58273381\\\\\n",
       "\t 3 & Soybeans & 0.00000000\\\\\n",
       "\t 3 & Grass    & 0.10791367\\\\\n",
       "\t 3 & Other    & 0.30935252\\\\\n",
       "\t 4 & Corn     & 0.42553191\\\\\n",
       "\t 4 & Soybeans & 0.04255319\\\\\n",
       "\t 4 & Grass    & 0.31914894\\\\\n",
       "\t 4 & Other    & 0.21276596\\\\\n",
       "\t 5 & Corn     & 0.02857143\\\\\n",
       "\t 5 & Soybeans & 0.52142857\\\\\n",
       "\t 5 & Grass    & 0.43571429\\\\\n",
       "\t 5 & Other    & 0.01428571\\\\\n",
       "\t 6 & Corn     & 0.04285714\\\\\n",
       "\t 6 & Soybeans & 0.81428571\\\\\n",
       "\t 6 & Grass    & 0.04285714\\\\\n",
       "\t 6 & Other    & 0.10000000\\\\\n",
       "\t 7 & Corn     & 0.94405594\\\\\n",
       "\t 7 & Soybeans & 0.00000000\\\\\n",
       "\t 7 & Grass    & 0.02797203\\\\\n",
       "\t 7 & Other    & 0.02797203\\\\\n",
       "\t 8 & Corn     & 0.02127660\\\\\n",
       "\t 8 & Soybeans & 0.68085106\\\\\n",
       "\t ... & ... & ...\\\\\n",
       "\t 13 & Grass    & 0.50000000\\\\\n",
       "\t 13 & Other    & 0.14615385\\\\\n",
       "\t 14 & Corn     & 0.45323741\\\\\n",
       "\t 14 & Soybeans & 0.29496403\\\\\n",
       "\t 14 & Grass    & 0.03597122\\\\\n",
       "\t 14 & Other    & 0.21582734\\\\\n",
       "\t 15 & Corn     & 0.21428571\\\\\n",
       "\t 15 & Soybeans & 0.30000000\\\\\n",
       "\t 15 & Grass    & 0.47142857\\\\\n",
       "\t 15 & Other    & 0.01428571\\\\\n",
       "\t 16 & Corn     & 0.01428571\\\\\n",
       "\t 16 & Soybeans & 0.92857143\\\\\n",
       "\t 16 & Grass    & 0.00000000\\\\\n",
       "\t 16 & Other    & 0.05714286\\\\\n",
       "\t 17 & Corn     & 0.47101449\\\\\n",
       "\t 17 & Soybeans & 0.03623188\\\\\n",
       "\t 17 & Grass    & 0.31159420\\\\\n",
       "\t 17 & Other    & 0.18115942\\\\\n",
       "\t 18 & Corn     & 0.00000000\\\\\n",
       "\t 18 & Soybeans & 1.00000000\\\\\n",
       "\t 18 & Grass    & 0.00000000\\\\\n",
       "\t 18 & Other    & 0.00000000\\\\\n",
       "\t 19 & Corn     & 0.00000000\\\\\n",
       "\t 19 & Soybeans & 0.90647482\\\\\n",
       "\t 19 & Grass    & 0.00000000\\\\\n",
       "\t 19 & Other    & 0.09352518\\\\\n",
       "\t 20 & Corn     & 0.42142857\\\\\n",
       "\t 20 & Soybeans & 0.08571429\\\\\n",
       "\t 20 & Grass    & 0.28571429\\\\\n",
       "\t 20 & Other    & 0.20714286\\\\\n",
       "\\end{tabular}\n"
      ],
      "text/markdown": [
       "\n",
       "A tibble: 80 × 3\n",
       "\n",
       "| ID &lt;int&gt; | croptype &lt;chr&gt; | percarea &lt;dbl&gt; |\n",
       "|---|---|---|\n",
       "| 1 | Corn     | 1.00000000 |\n",
       "| 1 | Soybeans | 0.00000000 |\n",
       "| 1 | Grass    | 0.00000000 |\n",
       "| 1 | Other    | 0.00000000 |\n",
       "| 2 | Corn     | 0.00000000 |\n",
       "| 2 | Soybeans | 1.00000000 |\n",
       "| 2 | Grass    | 0.00000000 |\n",
       "| 2 | Other    | 0.00000000 |\n",
       "| 3 | Corn     | 0.58273381 |\n",
       "| 3 | Soybeans | 0.00000000 |\n",
       "| 3 | Grass    | 0.10791367 |\n",
       "| 3 | Other    | 0.30935252 |\n",
       "| 4 | Corn     | 0.42553191 |\n",
       "| 4 | Soybeans | 0.04255319 |\n",
       "| 4 | Grass    | 0.31914894 |\n",
       "| 4 | Other    | 0.21276596 |\n",
       "| 5 | Corn     | 0.02857143 |\n",
       "| 5 | Soybeans | 0.52142857 |\n",
       "| 5 | Grass    | 0.43571429 |\n",
       "| 5 | Other    | 0.01428571 |\n",
       "| 6 | Corn     | 0.04285714 |\n",
       "| 6 | Soybeans | 0.81428571 |\n",
       "| 6 | Grass    | 0.04285714 |\n",
       "| 6 | Other    | 0.10000000 |\n",
       "| 7 | Corn     | 0.94405594 |\n",
       "| 7 | Soybeans | 0.00000000 |\n",
       "| 7 | Grass    | 0.02797203 |\n",
       "| 7 | Other    | 0.02797203 |\n",
       "| 8 | Corn     | 0.02127660 |\n",
       "| 8 | Soybeans | 0.68085106 |\n",
       "| ... | ... | ... |\n",
       "| 13 | Grass    | 0.50000000 |\n",
       "| 13 | Other    | 0.14615385 |\n",
       "| 14 | Corn     | 0.45323741 |\n",
       "| 14 | Soybeans | 0.29496403 |\n",
       "| 14 | Grass    | 0.03597122 |\n",
       "| 14 | Other    | 0.21582734 |\n",
       "| 15 | Corn     | 0.21428571 |\n",
       "| 15 | Soybeans | 0.30000000 |\n",
       "| 15 | Grass    | 0.47142857 |\n",
       "| 15 | Other    | 0.01428571 |\n",
       "| 16 | Corn     | 0.01428571 |\n",
       "| 16 | Soybeans | 0.92857143 |\n",
       "| 16 | Grass    | 0.00000000 |\n",
       "| 16 | Other    | 0.05714286 |\n",
       "| 17 | Corn     | 0.47101449 |\n",
       "| 17 | Soybeans | 0.03623188 |\n",
       "| 17 | Grass    | 0.31159420 |\n",
       "| 17 | Other    | 0.18115942 |\n",
       "| 18 | Corn     | 0.00000000 |\n",
       "| 18 | Soybeans | 1.00000000 |\n",
       "| 18 | Grass    | 0.00000000 |\n",
       "| 18 | Other    | 0.00000000 |\n",
       "| 19 | Corn     | 0.00000000 |\n",
       "| 19 | Soybeans | 0.90647482 |\n",
       "| 19 | Grass    | 0.00000000 |\n",
       "| 19 | Other    | 0.09352518 |\n",
       "| 20 | Corn     | 0.42142857 |\n",
       "| 20 | Soybeans | 0.08571429 |\n",
       "| 20 | Grass    | 0.28571429 |\n",
       "| 20 | Other    | 0.20714286 |\n",
       "\n"
      ],
      "text/plain": [
       "    ID  croptype percarea  \n",
       "1   1   Corn     1.00000000\n",
       "2   1   Soybeans 0.00000000\n",
       "3   1   Grass    0.00000000\n",
       "4   1   Other    0.00000000\n",
       "5   2   Corn     0.00000000\n",
       "6   2   Soybeans 1.00000000\n",
       "7   2   Grass    0.00000000\n",
       "8   2   Other    0.00000000\n",
       "9   3   Corn     0.58273381\n",
       "10  3   Soybeans 0.00000000\n",
       "11  3   Grass    0.10791367\n",
       "12  3   Other    0.30935252\n",
       "13  4   Corn     0.42553191\n",
       "14  4   Soybeans 0.04255319\n",
       "15  4   Grass    0.31914894\n",
       "16  4   Other    0.21276596\n",
       "17  5   Corn     0.02857143\n",
       "18  5   Soybeans 0.52142857\n",
       "19  5   Grass    0.43571429\n",
       "20  5   Other    0.01428571\n",
       "21  6   Corn     0.04285714\n",
       "22  6   Soybeans 0.81428571\n",
       "23  6   Grass    0.04285714\n",
       "24  6   Other    0.10000000\n",
       "25  7   Corn     0.94405594\n",
       "26  7   Soybeans 0.00000000\n",
       "27  7   Grass    0.02797203\n",
       "28  7   Other    0.02797203\n",
       "29  8   Corn     0.02127660\n",
       "30  8   Soybeans 0.68085106\n",
       "... ... ...      ...       \n",
       "51  13  Grass    0.50000000\n",
       "52  13  Other    0.14615385\n",
       "53  14  Corn     0.45323741\n",
       "54  14  Soybeans 0.29496403\n",
       "55  14  Grass    0.03597122\n",
       "56  14  Other    0.21582734\n",
       "57  15  Corn     0.21428571\n",
       "58  15  Soybeans 0.30000000\n",
       "59  15  Grass    0.47142857\n",
       "60  15  Other    0.01428571\n",
       "61  16  Corn     0.01428571\n",
       "62  16  Soybeans 0.92857143\n",
       "63  16  Grass    0.00000000\n",
       "64  16  Other    0.05714286\n",
       "65  17  Corn     0.47101449\n",
       "66  17  Soybeans 0.03623188\n",
       "67  17  Grass    0.31159420\n",
       "68  17  Other    0.18115942\n",
       "69  18  Corn     0.00000000\n",
       "70  18  Soybeans 1.00000000\n",
       "71  18  Grass    0.00000000\n",
       "72  18  Other    0.00000000\n",
       "73  19  Corn     0.00000000\n",
       "74  19  Soybeans 0.90647482\n",
       "75  19  Grass    0.00000000\n",
       "76  19  Other    0.09352518\n",
       "77  20  Corn     0.42142857\n",
       "78  20  Soybeans 0.08571429\n",
       "79  20  Grass    0.28571429\n",
       "80  20  Other    0.20714286"
      ]
     },
     "metadata": {},
     "output_type": "display_data"
    }
   ],
   "source": [
    "plots_long <- plots_cdl %>%\n",
    "  pivot_longer(Corn:Other, \n",
    "               names_to = \"croptype\", \n",
    "               values_to = \"percarea\")\n",
    "plots_long"
   ]
  },
  {
   "cell_type": "code",
   "execution_count": 44,
   "id": "74b12e1b",
   "metadata": {},
   "outputs": [
    {
     "data": {
      "image/png": "[encoded data removed]",
      "text/plain": [
       "plot without title"
      ]
     },
     "metadata": {
      "image/png": {
       "height": 420,
       "width": 420
      }
     },
     "output_type": "display_data"
    }
   ],
   "source": [
    "ggplot(data = plots_long) +\n",
    "  geom_boxplot(aes(x = croptype, \n",
    "                   y = percarea)) +\n",
    "  xlab(\"Land Cover Class\") +\n",
    "  ylab(\"Cover Proportion\") +\n",
    "  theme_bw()"
   ]
  },
  {
   "cell_type": "code",
   "execution_count": null,
   "id": "9d760f91",
   "metadata": {},
   "outputs": [],
   "source": []
  }
 ],
 "metadata": {
  "kernelspec": {
   "display_name": "R",
   "language": "R",
   "name": "ir"
  },
  "language_info": {
   "codemirror_mode": "r",
   "file_extension": ".r",
   "mimetype": "text/x-r-source",
   "name": "R",
   "pygments_lexer": "r",
   "version": "4.2.1"
  }
 },
 "nbformat": 4,
 "nbformat_minor": 5
}
